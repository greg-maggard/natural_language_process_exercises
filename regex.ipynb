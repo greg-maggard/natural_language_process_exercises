{
 "cells": [
  {
   "cell_type": "code",
   "execution_count": 1,
   "id": "733afb50",
   "metadata": {},
   "outputs": [],
   "source": [
    "import re"
   ]
  },
  {
   "cell_type": "markdown",
   "id": "80bf2bb6",
   "metadata": {},
   "source": [
    "# Exercises: "
   ]
  },
  {
   "cell_type": "markdown",
   "id": "f37a444e",
   "metadata": {},
   "source": [
    "## 1. Write a function named is_vowel. It should accept a string as input and use a regular expression to determine if the passed string is a vowel. While not explicity mentioned in the lesson, you can treat the result of re.search as a boolean value that indicates whether or not the regular expression matches the given string."
   ]
  },
  {
   "cell_type": "code",
   "execution_count": 2,
   "id": "4a00cde5",
   "metadata": {},
   "outputs": [],
   "source": [
    "def is_vowel(string):\n",
    "    return bool(re.search(r\"[aeiouAEIOU]\", string, re.IGNORECASE))"
   ]
  },
  {
   "cell_type": "code",
   "execution_count": 3,
   "id": "80bdf0b8",
   "metadata": {},
   "outputs": [
    {
     "data": {
      "text/plain": [
       "(True, False, False, False, True)"
      ]
     },
     "execution_count": 3,
     "metadata": {},
     "output_type": "execute_result"
    }
   ],
   "source": [
    "is_vowel('e'), is_vowel('f'), is_vowel('g'), is_vowel('h'), is_vowel('i')"
   ]
  },
  {
   "cell_type": "markdown",
   "id": "549f4b39",
   "metadata": {},
   "source": [
    "## 2. Write a function named is_valid_username that accepts a string as input. A valid username starts with a lowercase letter, and only consists of lowercase letters, numbers, or the _ character. It should also be no longer than 32 characters. The function should return either True or False depending on whether the passed string is a valid username."
   ]
  },
  {
   "cell_type": "code",
   "execution_count": 4,
   "id": "cbd628cc",
   "metadata": {},
   "outputs": [],
   "source": [
    "def is_valid_username(string):\n",
    "    return bool(re.search(r\"^[a-z][a-z_\\d]{1,31}$\", string))"
   ]
  },
  {
   "cell_type": "code",
   "execution_count": 5,
   "id": "29ffef2b",
   "metadata": {},
   "outputs": [
    {
     "data": {
      "text/plain": [
       "True"
      ]
     },
     "execution_count": 5,
     "metadata": {},
     "output_type": "execute_result"
    }
   ],
   "source": [
    "string = 'this_string_is_32_charactersssss'\n",
    "\n",
    "is_valid_username(string)"
   ]
  },
  {
   "cell_type": "code",
   "execution_count": 6,
   "id": "53ab77dd",
   "metadata": {},
   "outputs": [
    {
     "data": {
      "text/plain": [
       "False"
      ]
     },
     "execution_count": 6,
     "metadata": {},
     "output_type": "execute_result"
    }
   ],
   "source": [
    "string = 'this_string_is_more_than_32_charactersssss'\n",
    "\n",
    "is_valid_username(string)"
   ]
  },
  {
   "cell_type": "markdown",
   "id": "1fbfdd3e",
   "metadata": {},
   "source": [
    "## 3. Write a regular expression to capture phone numbers. It should match all of the following:\n",
    "\n",
    " - (210) 867 5309\n",
    " - +1 210.867.5309\n",
    " - 867-5309\n",
    " - 210-867-5309"
   ]
  },
  {
   "cell_type": "code",
   "execution_count": 7,
   "id": "2864dd16",
   "metadata": {},
   "outputs": [],
   "source": [
    "def get_phone_number(number):\n",
    "    return re.match(r\"(\\+\\d{1,2})?[\\s\\-\\.]?(\\(?[2-9]{1}[0-9]{2}\\)?)?[\\s\\-\\.]?([2-9]{1}[0-9]{2})[\\s\\-\\.]?([0-9]{4})\", number)"
   ]
  },
  {
   "cell_type": "code",
   "execution_count": 8,
   "id": "594a8c9e",
   "metadata": {},
   "outputs": [
    {
     "data": {
      "text/plain": [
       "<re.Match object; span=(0, 15), match='+1 210.867.5309'>"
      ]
     },
     "execution_count": 8,
     "metadata": {},
     "output_type": "execute_result"
    }
   ],
   "source": [
    "number = '+1 210.867.5309'\n",
    "get_phone_number(number)"
   ]
  },
  {
   "cell_type": "code",
   "execution_count": 9,
   "id": "b94ae0be",
   "metadata": {},
   "outputs": [
    {
     "data": {
      "text/plain": [
       "<re.Match object; span=(0, 14), match='(210) 867 5309'>"
      ]
     },
     "execution_count": 9,
     "metadata": {},
     "output_type": "execute_result"
    }
   ],
   "source": [
    "number = '(210) 867 5309'\n",
    "get_phone_number(number)"
   ]
  },
  {
   "cell_type": "code",
   "execution_count": 10,
   "id": "5d94c819",
   "metadata": {},
   "outputs": [
    {
     "data": {
      "text/plain": [
       "<re.Match object; span=(0, 8), match='867-5309'>"
      ]
     },
     "execution_count": 10,
     "metadata": {},
     "output_type": "execute_result"
    }
   ],
   "source": [
    "number = '867-5309'\n",
    "get_phone_number(number)"
   ]
  },
  {
   "cell_type": "code",
   "execution_count": 11,
   "id": "d59451a3",
   "metadata": {},
   "outputs": [
    {
     "data": {
      "text/plain": [
       "<re.Match object; span=(0, 12), match='210-867-5309'>"
      ]
     },
     "execution_count": 11,
     "metadata": {},
     "output_type": "execute_result"
    }
   ],
   "source": [
    "number = '210-867-5309'\n",
    "get_phone_number(number)"
   ]
  },
  {
   "cell_type": "markdown",
   "id": "b5ea766f",
   "metadata": {},
   "source": [
    "## 4. Use regular expressions to convert the dates below to the standardized year-month-day format:\n",
    "\n",
    "- 02/04/19\n",
    "- 02/05/19\n",
    "- 02/06/19\n",
    "- 02/07/19\n",
    "- 02/08/19\n",
    "- 02/09/19\n",
    "- 02/10/19"
   ]
  },
  {
   "cell_type": "code",
   "execution_count": 12,
   "id": "3764ebbc",
   "metadata": {},
   "outputs": [],
   "source": [
    "def get_date(date):\n",
    "    month, day, year = re.search(r\"^([0-1]{1}[0-9]{1})/([0-3]{1}[0-9]{1})/([0-9]{1}[0-9]{1})\", date).groups()\n",
    "    return(f'20{year}/{month}/{day}')"
   ]
  },
  {
   "cell_type": "code",
   "execution_count": 13,
   "id": "e55b679a",
   "metadata": {},
   "outputs": [
    {
     "data": {
      "text/plain": [
       "'2019/02/04'"
      ]
     },
     "execution_count": 13,
     "metadata": {},
     "output_type": "execute_result"
    }
   ],
   "source": [
    "date = '02/04/19'\n",
    "get_date(date)"
   ]
  },
  {
   "cell_type": "code",
   "execution_count": 14,
   "id": "a3b394b1",
   "metadata": {},
   "outputs": [
    {
     "data": {
      "text/plain": [
       "'2019/02/05'"
      ]
     },
     "execution_count": 14,
     "metadata": {},
     "output_type": "execute_result"
    }
   ],
   "source": [
    "date = '02/05/19'\n",
    "get_date(date)"
   ]
  },
  {
   "cell_type": "code",
   "execution_count": 15,
   "id": "b1bf6c77",
   "metadata": {},
   "outputs": [
    {
     "data": {
      "text/plain": [
       "'2019/02/06'"
      ]
     },
     "execution_count": 15,
     "metadata": {},
     "output_type": "execute_result"
    }
   ],
   "source": [
    "date = '02/06/19'\n",
    "get_date(date)"
   ]
  },
  {
   "cell_type": "markdown",
   "id": "c0446206",
   "metadata": {},
   "source": [
    "## 5. Write a regex to extract the various parts of these logfile lines:\n",
    "\n",
    "- GET /api/v1/sales?page=86 [16/Apr/2019:193452+0000] HTTP/1.1 {200} 510348 \"python-requests/2.21.0\" 97.105.19.58\n",
    "- POST /users_accounts/file-upload [16/Apr/2019:193452+0000] HTTP/1.1 {201} 42 \"User-Agent: Mozilla/5.0 (X11; Fedora; Fedora; Linux x86_64) AppleWebKit/537.36 (KHTML, like Gecko) Chrome/73.0.3683.86 Safari/537.36\" 97.105.19.58\n",
    "- GET /api/v1/items?page=3 [16/Apr/2019:193453+0000] HTTP/1.1 {429} 3561 \"python-requests/2.21.0\" 97.105.19.58\n"
   ]
  },
  {
   "cell_type": "code",
   "execution_count": 31,
   "id": "dadfa005",
   "metadata": {},
   "outputs": [],
   "source": [
    "def get_logfile(string):\n",
    "    action, path, date, hour, minutes, seconds, utc_modifier, http_version, response_code, unknown_code, machine_type, version_number, ip_address = re.match(r\"^([A-Z]{3,4})\\s(\\/.*\\s)\\[([0-3]{1}[0-9]{1}\\/[A-Z]{1}[a-z]{2}\\/[0-9]{4})\\:([0-1]{1}[0-9]{1})([0-6]{1}[0-9]{1})([0-6]{1}[0-9]{1})(\\+[0-9]{4})\\]\\s([A-Z]{,4}\\/[0-9]{1}\\.[0-9]{1})\\s(\\{[0-9]{3}\\})\\s([0-9]{4,6})\\s(\\\"[a-z\\-]{1,})\\/([0-9]{1,}\\.[0-9]{1,}\\.[0-9]{1,})\\\"\\s([0-9]{1,}\\.[0-9]{1,}\\.[0-9]{1,}\\.[0-9]{1,})\", string).groups()\n",
    "    return print(f'''\n",
    "    path = {path}\n",
    "    date = {date}\n",
    "    time = {hour}:{minutes}:{seconds} +{utc_modifier}\n",
    "    HTTP version = {http_version}\n",
    "    response code = {response_code}\n",
    "    unknown code = {unknown_code}\n",
    "    machine type = {machine_type}\n",
    "    version_number = {version_number}\n",
    "    IP address = {ip_address}\n",
    "    ''')"
   ]
  },
  {
   "cell_type": "code",
   "execution_count": 28,
   "id": "3a094b9f",
   "metadata": {
    "scrolled": true
   },
   "outputs": [
    {
     "name": "stdout",
     "output_type": "stream",
     "text": [
      "\n",
      "    path = /api/v1/sales?page=86 \n",
      "    date = 16/Apr/2019\n",
      "    time = 19:34:52 ++0000\n",
      "    HTTP version = HTTP/1.1\n",
      "    response code = {200}\n",
      "    unknown code = 510348\n",
      "    machine type = \"python-requests\n",
      "    version_number = 2.21.0\n",
      "    IP address = 97.105.19.58\n",
      "    \n"
     ]
    }
   ],
   "source": [
    "string = '''GET /api/v1/sales?page=86 [16/Apr/2019:193452+0000] HTTP/1.1 {200} 510348 \"python-requests/2.21.0\" 97.105.19.58'''\n",
    "get_logfile(string)"
   ]
  },
  {
   "cell_type": "code",
   "execution_count": 32,
   "id": "f59f8ea0",
   "metadata": {},
   "outputs": [
    {
     "name": "stdout",
     "output_type": "stream",
     "text": [
      "\n",
      "    path = /api/v1/items?page=3 \n",
      "    date = 16/Apr/2019\n",
      "    time = 19:34:53 ++0000\n",
      "    HTTP version = HTTP/1.1\n",
      "    response code = {429}\n",
      "    unknown code = 3561\n",
      "    machine type = \"python-requests\n",
      "    version_number = 2.21.0\n",
      "    IP address = 97.105.19.58\n",
      "    \n"
     ]
    }
   ],
   "source": [
    "string = '''GET /api/v1/items?page=3 [16/Apr/2019:193453+0000] HTTP/1.1 {429} 3561 \"python-requests/2.21.0\" 97.105.19.58'''\n",
    "get_logfile(string)"
   ]
  },
  {
   "cell_type": "markdown",
   "id": "1fccf07b",
   "metadata": {},
   "source": [
    "# Bonus Exercise:"
   ]
  },
  {
   "cell_type": "markdown",
   "id": "b3b30b12",
   "metadata": {},
   "source": [
    "## 6.  You can find a list of words on your mac at /usr/share/dict/words. Use this file to answer the following questions:"
   ]
  },
  {
   "cell_type": "markdown",
   "id": "8003e3da",
   "metadata": {},
   "source": [
    "### 1. How many words have at least 3 vowels?"
   ]
  },
  {
   "cell_type": "code",
   "execution_count": null,
   "id": "36e00865",
   "metadata": {},
   "outputs": [],
   "source": []
  },
  {
   "cell_type": "markdown",
   "id": "a9184805",
   "metadata": {},
   "source": [
    "### 2. How many words have at least 3 vowels in a row?"
   ]
  },
  {
   "cell_type": "code",
   "execution_count": null,
   "id": "89fd015f",
   "metadata": {},
   "outputs": [],
   "source": []
  },
  {
   "cell_type": "markdown",
   "id": "0eea94ea",
   "metadata": {},
   "source": [
    "### 3. How many words have at least 4 consonants in a row?"
   ]
  },
  {
   "cell_type": "code",
   "execution_count": null,
   "id": "41f0ed34",
   "metadata": {},
   "outputs": [],
   "source": []
  },
  {
   "cell_type": "markdown",
   "id": "38eeee58",
   "metadata": {},
   "source": [
    "### 4. How many words start and end with the same letter?"
   ]
  },
  {
   "cell_type": "code",
   "execution_count": null,
   "id": "3358597b",
   "metadata": {},
   "outputs": [],
   "source": []
  },
  {
   "cell_type": "markdown",
   "id": "f780abe2",
   "metadata": {},
   "source": [
    "### 5. How many words start and end with a vowel?"
   ]
  },
  {
   "cell_type": "code",
   "execution_count": null,
   "id": "9c03737d",
   "metadata": {},
   "outputs": [],
   "source": []
  },
  {
   "cell_type": "markdown",
   "id": "325b34be",
   "metadata": {},
   "source": [
    "### 6. How many words contain the same letter 3 times in a row?"
   ]
  },
  {
   "cell_type": "code",
   "execution_count": null,
   "id": "e756845d",
   "metadata": {},
   "outputs": [],
   "source": []
  },
  {
   "cell_type": "markdown",
   "id": "fa3c63c1",
   "metadata": {},
   "source": [
    "### 7. What other interesting patterns in words can you find?"
   ]
  },
  {
   "cell_type": "code",
   "execution_count": null,
   "id": "60641ace",
   "metadata": {},
   "outputs": [],
   "source": []
  }
 ],
 "metadata": {
  "kernelspec": {
   "display_name": "Python 3 (ipykernel)",
   "language": "python",
   "name": "python3"
  },
  "language_info": {
   "codemirror_mode": {
    "name": "ipython",
    "version": 3
   },
   "file_extension": ".py",
   "mimetype": "text/x-python",
   "name": "python",
   "nbconvert_exporter": "python",
   "pygments_lexer": "ipython3",
   "version": "3.9.7"
  }
 },
 "nbformat": 4,
 "nbformat_minor": 5
}
