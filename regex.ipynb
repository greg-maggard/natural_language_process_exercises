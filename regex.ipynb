{
 "cells": [
  {
   "cell_type": "code",
   "execution_count": 1,
   "id": "0d8c8f1c",
   "metadata": {},
   "outputs": [],
   "source": [
    "import re"
   ]
  },
  {
   "cell_type": "markdown",
   "id": "4b0d1529",
   "metadata": {},
   "source": [
    "# Exercises: "
   ]
  },
  {
   "cell_type": "markdown",
   "id": "9390f95a",
   "metadata": {},
   "source": [
    "## 1. Write a function named is_vowel. It should accept a string as input and use a regular expression to determine if the passed string is a vowel. While not explicity mentioned in the lesson, you can treat the result of re.search as a boolean value that indicates whether or not the regular expression matches the given string."
   ]
  },
  {
   "cell_type": "code",
   "execution_count": 47,
   "id": "c0e9ba31",
   "metadata": {},
   "outputs": [],
   "source": [
    "def is_vowel(string):\n",
    "    return bool(re.search(r\"[aeiouAEIOU]\", string, re.IGNORECASE))"
   ]
  },
  {
   "cell_type": "code",
   "execution_count": 48,
   "id": "a3788a34",
   "metadata": {},
   "outputs": [
    {
     "data": {
      "text/plain": [
       "(True, False, False, False, True)"
      ]
     },
     "execution_count": 48,
     "metadata": {},
     "output_type": "execute_result"
    }
   ],
   "source": [
    "is_vowel('e'), is_vowel('f'), is_vowel('g'), is_vowel('h'), is_vowel('i')"
   ]
  },
  {
   "cell_type": "markdown",
   "id": "ab490876",
   "metadata": {},
   "source": [
    "## 2. Write a function named is_valid_username that accepts a string as input. A valid username starts with a lowercase letter, and only consists of lowercase letters, numbers, or the _ character. It should also be no longer than 32 characters. The function should return either True or False depending on whether the passed string is a valid username."
   ]
  },
  {
   "cell_type": "code",
   "execution_count": 49,
   "id": "742000d6",
   "metadata": {},
   "outputs": [],
   "source": [
    "def is_valid_username(string):\n",
    "    return bool(re.search(r\"^[a-z][a-z_\\d]{1,31}$\", string))"
   ]
  },
  {
   "cell_type": "code",
   "execution_count": 50,
   "id": "4400e4fa",
   "metadata": {},
   "outputs": [
    {
     "data": {
      "text/plain": [
       "True"
      ]
     },
     "execution_count": 50,
     "metadata": {},
     "output_type": "execute_result"
    }
   ],
   "source": [
    "string = 'this_string_is_32_charactersssss'\n",
    "\n",
    "is_valid_username(string)"
   ]
  },
  {
   "cell_type": "code",
   "execution_count": 52,
   "id": "c9f87dd1",
   "metadata": {},
   "outputs": [
    {
     "data": {
      "text/plain": [
       "False"
      ]
     },
     "execution_count": 52,
     "metadata": {},
     "output_type": "execute_result"
    }
   ],
   "source": [
    "string = 'this_string_is_more_than_32_charactersssss'\n",
    "\n",
    "is_valid_username(string)"
   ]
  },
  {
   "cell_type": "markdown",
   "id": "407937a8",
   "metadata": {},
   "source": [
    "## 3. Write a regular expression to capture phone numbers. It should match all of the following:\n",
    "\n",
    " - (210) 867 5309\n",
    " - +1 210.867.5309\n",
    " - 867-5309\n",
    " - 210-867-5309"
   ]
  },
  {
   "cell_type": "code",
   "execution_count": 91,
   "id": "f906f3dc",
   "metadata": {},
   "outputs": [],
   "source": [
    "def get_phone_number(number):\n",
    "    return re.match(r\"(\\+\\d{1,2})?[\\s\\-\\.]?(\\(?[2-9]{1}[0-9]{2}\\)?)?[\\s\\-\\.]?([2-9]{1}[0-9]{2})[\\s\\-\\.]?([0-9]{4})\", number)"
   ]
  },
  {
   "cell_type": "code",
   "execution_count": 92,
   "id": "d79eb7e1",
   "metadata": {},
   "outputs": [
    {
     "data": {
      "text/plain": [
       "<re.Match object; span=(0, 15), match='+1 210.867.5309'>"
      ]
     },
     "execution_count": 92,
     "metadata": {},
     "output_type": "execute_result"
    }
   ],
   "source": [
    "number = '+1 210.867.5309'\n",
    "get_phone_number(number)"
   ]
  },
  {
   "cell_type": "code",
   "execution_count": 94,
   "id": "4d44429a",
   "metadata": {},
   "outputs": [
    {
     "data": {
      "text/plain": [
       "<re.Match object; span=(0, 14), match='(210) 867 5309'>"
      ]
     },
     "execution_count": 94,
     "metadata": {},
     "output_type": "execute_result"
    }
   ],
   "source": [
    "number = '(210) 867 5309'\n",
    "get_phone_number(number)"
   ]
  },
  {
   "cell_type": "code",
   "execution_count": 95,
   "id": "d15feda6",
   "metadata": {},
   "outputs": [
    {
     "data": {
      "text/plain": [
       "<re.Match object; span=(0, 8), match='867-5309'>"
      ]
     },
     "execution_count": 95,
     "metadata": {},
     "output_type": "execute_result"
    }
   ],
   "source": [
    "number = '867-5309'\n",
    "get_phone_number(number)"
   ]
  },
  {
   "cell_type": "code",
   "execution_count": 96,
   "id": "6d73f672",
   "metadata": {},
   "outputs": [
    {
     "data": {
      "text/plain": [
       "<re.Match object; span=(0, 12), match='210-867-5309'>"
      ]
     },
     "execution_count": 96,
     "metadata": {},
     "output_type": "execute_result"
    }
   ],
   "source": [
    "number = '210-867-5309'\n",
    "get_phone_number(number)"
   ]
  },
  {
   "cell_type": "markdown",
   "id": "dac8aa4e",
   "metadata": {},
   "source": [
    "## 4. Use regular expressions to convert the dates below to the standardized year-month-day format:\n",
    "\n",
    "- 02/04/19\n",
    "- 02/05/19\n",
    "- 02/06/19\n",
    "- 02/07/19\n",
    "- 02/08/19\n",
    "- 02/09/19\n",
    "- 02/10/19"
   ]
  },
  {
   "cell_type": "code",
   "execution_count": 152,
   "id": "b88296a9",
   "metadata": {},
   "outputs": [],
   "source": [
    "def get_date(date):\n",
    "    month, day, year = re.search(r\"^([0-1]{1}[0-9]{1})/([0-3]{1}[0-9]{1})/([0-9]{1}[0-9]{1})\", date).groups()\n",
    "    return(f'20{year}/{month}/{day}')"
   ]
  },
  {
   "cell_type": "code",
   "execution_count": 155,
   "id": "31bbdc63",
   "metadata": {},
   "outputs": [
    {
     "data": {
      "text/plain": [
       "'2019/02/04'"
      ]
     },
     "execution_count": 155,
     "metadata": {},
     "output_type": "execute_result"
    }
   ],
   "source": [
    "date = '02/04/19'\n",
    "get_date(date)"
   ]
  },
  {
   "cell_type": "code",
   "execution_count": 156,
   "id": "ff3d13ae",
   "metadata": {},
   "outputs": [
    {
     "data": {
      "text/plain": [
       "'2019/02/05'"
      ]
     },
     "execution_count": 156,
     "metadata": {},
     "output_type": "execute_result"
    }
   ],
   "source": [
    "date = '02/05/19'\n",
    "get_date(date)"
   ]
  },
  {
   "cell_type": "code",
   "execution_count": 157,
   "id": "024c6cb5",
   "metadata": {},
   "outputs": [
    {
     "data": {
      "text/plain": [
       "'2019/02/06'"
      ]
     },
     "execution_count": 157,
     "metadata": {},
     "output_type": "execute_result"
    }
   ],
   "source": [
    "date = '02/06/19'\n",
    "get_date(date)"
   ]
  },
  {
   "cell_type": "markdown",
   "id": "55b0bc5a",
   "metadata": {},
   "source": [
    "## 5. Write a regex to extract the various parts of these logfile lines:\n",
    "\n",
    "- GET /api/v1/sales?page=86 [16/Apr/2019:193452+0000] HTTP/1.1 {200} 510348 \"python-requests/2.21.0\" 97.105.19.58\n",
    "- POST /users_accounts/file-upload [16/Apr/2019:193452+0000] HTTP/1.1 {201} 42 \"User-Agent: Mozilla/5.0 (X11; Fedora; Fedora; Linux x86_64) AppleWebKit/537.36 (KHTML, like Gecko) Chrome/73.0.3683.86 Safari/537.36\" 97.105.19.58\n",
    "- GET /api/v1/items?page=3 [16/Apr/2019:193453+0000] HTTP/1.1 {429} 3561 \"python-requests/2.21.0\" 97.105.19.58\n"
   ]
  },
  {
   "cell_type": "code",
   "execution_count": 158,
   "id": "52fe37f1",
   "metadata": {},
   "outputs": [],
   "source": [
    "def get_logfile(string):\n",
    "    return re.match(r\"^([A-Z]{3,4})\\s(\\/.*\\s)\\[([0-3]{1}[0-9]{1}\\/[A-Z]{1}[a-z]{2}\\/[0-9]{4})\\:([0-1]{1}[0-9]{1})([0-6]{1}[0-9]{1})([0-6]{1}[0-9]{1})(\\+[0-9]{4})\\]\\s([A-Z]{,4}\\/[0-9]{1}\\.[0-9]{1})\\s(\\{[0-9]{3}\\})\\s([0-9]{6})\\s(\\\"[a-z\\-]{1,})\\/([0-9]{1,}\\.[0-9]{1,}\\.[0-9]{1,})\\\"\\s([0-9]{2}\\.[0-9]{3}\\.[0-9]{2}\\.[0-9]{2})\", string)"
   ]
  },
  {
   "cell_type": "code",
   "execution_count": 159,
   "id": "c548c81e",
   "metadata": {},
   "outputs": [
    {
     "data": {
      "text/plain": [
       "<re.Match object; span=(0, 111), match='GET /api/v1/sales?page=86 [16/Apr/2019:193452+000>"
      ]
     },
     "execution_count": 159,
     "metadata": {},
     "output_type": "execute_result"
    }
   ],
   "source": [
    "string = 'GET /api/v1/sales?page=86 [16/Apr/2019:193452+0000] HTTP/1.1 {200} 510348 \"python-requests/2.21.0\" 97.105.19.58'\n",
    "get_logfile(string)"
   ]
  },
  {
   "cell_type": "markdown",
   "id": "fef1509a",
   "metadata": {},
   "source": [
    "# Bonus Exercise:"
   ]
  },
  {
   "cell_type": "markdown",
   "id": "94ba3bf6",
   "metadata": {},
   "source": [
    "## 6.  You can find a list of words on your mac at /usr/share/dict/words. Use this file to answer the following questions:"
   ]
  },
  {
   "cell_type": "markdown",
   "id": "508ab86d",
   "metadata": {},
   "source": [
    "### 1. How many words have at least 3 vowels?"
   ]
  },
  {
   "cell_type": "code",
   "execution_count": null,
   "id": "307d8256",
   "metadata": {},
   "outputs": [],
   "source": []
  },
  {
   "cell_type": "markdown",
   "id": "971eeb46",
   "metadata": {},
   "source": [
    "### 2. How many words have at least 3 vowels in a row?"
   ]
  },
  {
   "cell_type": "code",
   "execution_count": null,
   "id": "7aa5700e",
   "metadata": {},
   "outputs": [],
   "source": []
  },
  {
   "cell_type": "markdown",
   "id": "ec081d7d",
   "metadata": {},
   "source": [
    "### 3. How many words have at least 4 consonants in a row?"
   ]
  },
  {
   "cell_type": "code",
   "execution_count": null,
   "id": "23f286ee",
   "metadata": {},
   "outputs": [],
   "source": []
  },
  {
   "cell_type": "markdown",
   "id": "cfe40f87",
   "metadata": {},
   "source": [
    "### 4. How many words start and end with the same letter?"
   ]
  },
  {
   "cell_type": "code",
   "execution_count": null,
   "id": "e1275a5f",
   "metadata": {},
   "outputs": [],
   "source": []
  },
  {
   "cell_type": "markdown",
   "id": "1a60fc4c",
   "metadata": {},
   "source": [
    "### 5. How many words start and end with a vowel?"
   ]
  },
  {
   "cell_type": "code",
   "execution_count": null,
   "id": "6a261720",
   "metadata": {},
   "outputs": [],
   "source": []
  },
  {
   "cell_type": "markdown",
   "id": "4c6d7f46",
   "metadata": {},
   "source": [
    "### 6. How many words contain the same letter 3 times in a row?"
   ]
  },
  {
   "cell_type": "code",
   "execution_count": null,
   "id": "b9cd4f42",
   "metadata": {},
   "outputs": [],
   "source": []
  },
  {
   "cell_type": "markdown",
   "id": "8249ea3c",
   "metadata": {},
   "source": [
    "### 7. What other interesting patterns in words can you find?"
   ]
  },
  {
   "cell_type": "code",
   "execution_count": null,
   "id": "43156ecf",
   "metadata": {},
   "outputs": [],
   "source": []
  }
 ],
 "metadata": {
  "kernelspec": {
   "display_name": "Python 3 (ipykernel)",
   "language": "python",
   "name": "python3"
  },
  "language_info": {
   "codemirror_mode": {
    "name": "ipython",
    "version": 3
   },
   "file_extension": ".py",
   "mimetype": "text/x-python",
   "name": "python",
   "nbconvert_exporter": "python",
   "pygments_lexer": "ipython3",
   "version": "3.9.7"
  }
 },
 "nbformat": 4,
 "nbformat_minor": 5
}
