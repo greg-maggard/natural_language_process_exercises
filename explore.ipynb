{
 "cells": [
  {
   "cell_type": "code",
   "execution_count": 1,
   "id": "a62fbdf0",
   "metadata": {},
   "outputs": [],
   "source": [
    "import re\n",
    "import unicodedata\n",
    "import pandas as pd\n",
    "import nltk\n",
    "\n",
    "from env import get_db_url\n",
    "import prepare as pr"
   ]
  },
  {
   "cell_type": "markdown",
   "id": "3978a278",
   "metadata": {},
   "source": [
    "# Exercises:"
   ]
  },
  {
   "cell_type": "markdown",
   "id": "f76402cc",
   "metadata": {},
   "source": [
    "## 1. Spam Data:"
   ]
  },
  {
   "cell_type": "markdown",
   "id": "2a7aee4b",
   "metadata": {},
   "source": [
    "### a. Load the spam data set."
   ]
  },
  {
   "cell_type": "code",
   "execution_count": 2,
   "id": "6bb6e658",
   "metadata": {},
   "outputs": [],
   "source": [
    "url = get_db_url('spam_db')\n",
    "# Querying the database and saving output to a DataFrame:\n",
    "df = pd.read_sql('SELECT * FROM spam;', url)"
   ]
  },
  {
   "cell_type": "code",
   "execution_count": 3,
   "id": "1aaf0663",
   "metadata": {
    "scrolled": true
   },
   "outputs": [
    {
     "data": {
      "text/html": [
       "<div>\n",
       "<style scoped>\n",
       "    .dataframe tbody tr th:only-of-type {\n",
       "        vertical-align: middle;\n",
       "    }\n",
       "\n",
       "    .dataframe tbody tr th {\n",
       "        vertical-align: top;\n",
       "    }\n",
       "\n",
       "    .dataframe thead th {\n",
       "        text-align: right;\n",
       "    }\n",
       "</style>\n",
       "<table border=\"1\" class=\"dataframe\">\n",
       "  <thead>\n",
       "    <tr style=\"text-align: right;\">\n",
       "      <th></th>\n",
       "      <th>id</th>\n",
       "      <th>label</th>\n",
       "      <th>text</th>\n",
       "    </tr>\n",
       "  </thead>\n",
       "  <tbody>\n",
       "    <tr>\n",
       "      <th>0</th>\n",
       "      <td>0</td>\n",
       "      <td>ham</td>\n",
       "      <td>Go until jurong point, crazy.. Available only ...</td>\n",
       "    </tr>\n",
       "    <tr>\n",
       "      <th>1</th>\n",
       "      <td>1</td>\n",
       "      <td>ham</td>\n",
       "      <td>Ok lar... Joking wif u oni...</td>\n",
       "    </tr>\n",
       "    <tr>\n",
       "      <th>2</th>\n",
       "      <td>2</td>\n",
       "      <td>spam</td>\n",
       "      <td>Free entry in 2 a wkly comp to win FA Cup fina...</td>\n",
       "    </tr>\n",
       "    <tr>\n",
       "      <th>3</th>\n",
       "      <td>3</td>\n",
       "      <td>ham</td>\n",
       "      <td>U dun say so early hor... U c already then say...</td>\n",
       "    </tr>\n",
       "    <tr>\n",
       "      <th>4</th>\n",
       "      <td>4</td>\n",
       "      <td>ham</td>\n",
       "      <td>Nah I don't think he goes to usf, he lives aro...</td>\n",
       "    </tr>\n",
       "  </tbody>\n",
       "</table>\n",
       "</div>"
      ],
      "text/plain": [
       "   id label                                               text\n",
       "0   0   ham  Go until jurong point, crazy.. Available only ...\n",
       "1   1   ham                      Ok lar... Joking wif u oni...\n",
       "2   2  spam  Free entry in 2 a wkly comp to win FA Cup fina...\n",
       "3   3   ham  U dun say so early hor... U c already then say...\n",
       "4   4   ham  Nah I don't think he goes to usf, he lives aro..."
      ]
     },
     "execution_count": 3,
     "metadata": {},
     "output_type": "execute_result"
    }
   ],
   "source": [
    "#Settig 'id' as the index for the DataFrame:\n",
    "#df = df.set_index('id')\n",
    "df.head()"
   ]
  },
  {
   "cell_type": "code",
   "execution_count": 4,
   "id": "ddb896a2",
   "metadata": {},
   "outputs": [
    {
     "data": {
      "text/plain": [
       "ham     4825\n",
       "spam     747\n",
       "Name: label, dtype: int64"
      ]
     },
     "execution_count": 4,
     "metadata": {},
     "output_type": "execute_result"
    }
   ],
   "source": [
    "df.label.value_counts()"
   ]
  },
  {
   "cell_type": "markdown",
   "id": "83e8b4ec",
   "metadata": {},
   "source": [
    "### b. Create and explore bigrams for the spam data. Visualize them with a word cloud. How do they compare with the ham bigrams?"
   ]
  },
  {
   "cell_type": "markdown",
   "id": "63f24233",
   "metadata": {},
   "source": [
    "##### Creating Clean Version of Data:"
   ]
  },
  {
   "cell_type": "markdown",
   "id": "e9b0fb86",
   "metadata": {},
   "source": [
    "Needed:\n",
    "- lower\n",
    "- normalized\n",
    "- remove weird characters\n",
    "- tokenize? (what's the differnce between tokenizing and splitting?)\n",
    "    - Look into what toktok actually does.\n",
    "- removing stop words\n",
    "- stemming/lemmatization"
   ]
  },
  {
   "cell_type": "code",
   "execution_count": 5,
   "id": "ca51ad03",
   "metadata": {},
   "outputs": [],
   "source": [
    "def clean_text_list(df, column, extra_words = [], exclude_words = []):\n",
    "    #creating the string object:\n",
    "    \n",
    "    #lowercases all letters in the string:\n",
    "    string = string.lower()\n",
    "    #Removes any special characters and normalizes them into their regular forms:\n",
    "    string = unicodedata.normalize('NFKD', string).encode('ascii', 'ignore').decode('utf-8', 'ignore')\n",
    "    #Replaces anything that is not a letter, number, whitespace, or single quote:\n",
    "    string = re.sub(r\"[^\\da-z\\'\\s]\", '', string)\n",
    "    \n",
    "    #Creating the tokenizer object:\n",
    "    tokenizer = nltk.tokenize.ToktokTokenizer()\n",
    "    #Usign the tokenizer on the string:\n",
    "    string = tokenizer.tokenize(string, return_str=True)\n",
    "    #Creating a list of stopwords from NLTK's standard list:\n",
    "    stopword_list = stopwords.words('english')\n",
    "    #Creating a list of words by splitting the string:\n",
    "    words = string.split()\n",
    "    #Saving words to list if they are not in stopword list:\n",
    "    filtered_words = [w for w in words if w not in stopword_list]\n",
    "    #Joining all words in list of non-stopwords:\n",
    "    string_without_stopwords = ' '.join(filtered_words)\n",
    "    #Creating the lemmatizer object:\n",
    "    wnl = nltk.stem.WordNetLemmatizer()\n",
    "    #Applying the lemmatizer to every word in the string:\n",
    "    lemmas = [wnl.lemmatize(word) for word in string.split()]"
   ]
  },
  {
   "cell_type": "code",
   "execution_count": 6,
   "id": "a3e00a1b",
   "metadata": {},
   "outputs": [
    {
     "data": {
      "text/html": [
       "<div>\n",
       "<style scoped>\n",
       "    .dataframe tbody tr th:only-of-type {\n",
       "        vertical-align: middle;\n",
       "    }\n",
       "\n",
       "    .dataframe tbody tr th {\n",
       "        vertical-align: top;\n",
       "    }\n",
       "\n",
       "    .dataframe thead th {\n",
       "        text-align: right;\n",
       "    }\n",
       "</style>\n",
       "<table border=\"1\" class=\"dataframe\">\n",
       "  <thead>\n",
       "    <tr style=\"text-align: right;\">\n",
       "      <th></th>\n",
       "      <th>id</th>\n",
       "      <th>text</th>\n",
       "      <th>cleaned</th>\n",
       "      <th>stemmed</th>\n",
       "      <th>lemmatized</th>\n",
       "    </tr>\n",
       "  </thead>\n",
       "  <tbody>\n",
       "    <tr>\n",
       "      <th>0</th>\n",
       "      <td>0</td>\n",
       "      <td>Go until jurong point, crazy.. Available only ...</td>\n",
       "      <td>go jurong point crazy available bugis n great ...</td>\n",
       "      <td>go jurong point crazi avail bugi n great world...</td>\n",
       "      <td>[go, jurong, point, crazy, available, bugis, n...</td>\n",
       "    </tr>\n",
       "    <tr>\n",
       "      <th>1</th>\n",
       "      <td>1</td>\n",
       "      <td>Ok lar... Joking wif u oni...</td>\n",
       "      <td>ok lar joking wif u oni</td>\n",
       "      <td>ok lar joke wif u oni</td>\n",
       "      <td>[ok, lar, joking, wif, u, oni]</td>\n",
       "    </tr>\n",
       "    <tr>\n",
       "      <th>2</th>\n",
       "      <td>2</td>\n",
       "      <td>Free entry in 2 a wkly comp to win FA Cup fina...</td>\n",
       "      <td>free entry 2 wkly comp win fa cup final tkts 2...</td>\n",
       "      <td>free entri 2 wkli comp win fa cup final tkt 21...</td>\n",
       "      <td>[free, entry, 2, wkly, comp, win, fa, cup, fin...</td>\n",
       "    </tr>\n",
       "    <tr>\n",
       "      <th>3</th>\n",
       "      <td>3</td>\n",
       "      <td>U dun say so early hor... U c already then say...</td>\n",
       "      <td>u dun say early hor u c already say</td>\n",
       "      <td>u dun say earli hor u c alreadi say</td>\n",
       "      <td>[u, dun, say, early, hor, u, c, already, say]</td>\n",
       "    </tr>\n",
       "    <tr>\n",
       "      <th>4</th>\n",
       "      <td>4</td>\n",
       "      <td>Nah I don't think he goes to usf, he lives aro...</td>\n",
       "      <td>nah ' think goes usf lives around though</td>\n",
       "      <td>nah ' think goe usf live around though</td>\n",
       "      <td>[nah, ', think, go, usf, life, around, though]</td>\n",
       "    </tr>\n",
       "  </tbody>\n",
       "</table>\n",
       "</div>"
      ],
      "text/plain": [
       "   id                                               text  \\\n",
       "0   0  Go until jurong point, crazy.. Available only ...   \n",
       "1   1                      Ok lar... Joking wif u oni...   \n",
       "2   2  Free entry in 2 a wkly comp to win FA Cup fina...   \n",
       "3   3  U dun say so early hor... U c already then say...   \n",
       "4   4  Nah I don't think he goes to usf, he lives aro...   \n",
       "\n",
       "                                             cleaned  \\\n",
       "0  go jurong point crazy available bugis n great ...   \n",
       "1                            ok lar joking wif u oni   \n",
       "2  free entry 2 wkly comp win fa cup final tkts 2...   \n",
       "3                u dun say early hor u c already say   \n",
       "4           nah ' think goes usf lives around though   \n",
       "\n",
       "                                             stemmed  \\\n",
       "0  go jurong point crazi avail bugi n great world...   \n",
       "1                              ok lar joke wif u oni   \n",
       "2  free entri 2 wkli comp win fa cup final tkt 21...   \n",
       "3                u dun say earli hor u c alreadi say   \n",
       "4             nah ' think goe usf live around though   \n",
       "\n",
       "                                          lemmatized  \n",
       "0  [go, jurong, point, crazy, available, bugis, n...  \n",
       "1                     [ok, lar, joking, wif, u, oni]  \n",
       "2  [free, entry, 2, wkly, comp, win, fa, cup, fin...  \n",
       "3      [u, dun, say, early, hor, u, c, already, say]  \n",
       "4     [nah, ', think, go, usf, life, around, though]  "
      ]
     },
     "execution_count": 6,
     "metadata": {},
     "output_type": "execute_result"
    }
   ],
   "source": [
    "clean_df.head()"
   ]
  },
  {
   "cell_type": "markdown",
   "id": "204942c3",
   "metadata": {},
   "source": [
    "#### Spam:"
   ]
  },
  {
   "cell_type": "code",
   "execution_count": null,
   "id": "b3021c67",
   "metadata": {},
   "outputs": [],
   "source": []
  },
  {
   "cell_type": "markdown",
   "id": "25ca2982",
   "metadata": {},
   "source": [
    "#### Ham:"
   ]
  },
  {
   "cell_type": "code",
   "execution_count": null,
   "id": "25e28aa9",
   "metadata": {},
   "outputs": [],
   "source": []
  },
  {
   "cell_type": "markdown",
   "id": "8209db01",
   "metadata": {},
   "source": [
    "#### Notes:"
   ]
  },
  {
   "cell_type": "code",
   "execution_count": null,
   "id": "9d177d8a",
   "metadata": {},
   "outputs": [],
   "source": []
  },
  {
   "cell_type": "markdown",
   "id": "2266f11e",
   "metadata": {},
   "source": [
    "### c. Is there any overlap in the bigrams for the spam data and the ham data?"
   ]
  },
  {
   "cell_type": "markdown",
   "id": "56e8aea7",
   "metadata": {},
   "source": [
    "### d. Create and explore with trigrams (i.e. a n-gram with an n of 3) for both the spam and ham data."
   ]
  },
  {
   "cell_type": "markdown",
   "id": "b45d6a56",
   "metadata": {},
   "source": [
    "## 2. Explore the blog articles using the techniques discussed in the exploration lesson."
   ]
  },
  {
   "cell_type": "markdown",
   "id": "58061069",
   "metadata": {},
   "source": [
    "## 3. Explore the news articles using the techniques discussed in the exploration lesson. Use the category variable when exploring."
   ]
  },
  {
   "cell_type": "code",
   "execution_count": null,
   "id": "254ec5c2",
   "metadata": {},
   "outputs": [],
   "source": []
  }
 ],
 "metadata": {
  "kernelspec": {
   "display_name": "Python 3 (ipykernel)",
   "language": "python",
   "name": "python3"
  },
  "language_info": {
   "codemirror_mode": {
    "name": "ipython",
    "version": 3
   },
   "file_extension": ".py",
   "mimetype": "text/x-python",
   "name": "python",
   "nbconvert_exporter": "python",
   "pygments_lexer": "ipython3",
   "version": "3.9.7"
  }
 },
 "nbformat": 4,
 "nbformat_minor": 5
}
