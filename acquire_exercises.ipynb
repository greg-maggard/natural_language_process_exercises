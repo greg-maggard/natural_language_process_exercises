{
 "cells": [
  {
   "cell_type": "code",
   "execution_count": 37,
   "id": "f110b612",
   "metadata": {},
   "outputs": [],
   "source": [
    "import pandas as pd\n",
    "from requests import get\n",
    "from bs4 import BeautifulSoup\n",
    "import os"
   ]
  },
  {
   "cell_type": "markdown",
   "id": "19d828cf",
   "metadata": {},
   "source": [
    "# Exercises:"
   ]
  },
  {
   "cell_type": "markdown",
   "id": "b8a475c1",
   "metadata": {},
   "source": [
    "## 1. Codeup Blog Articles\n",
    "\n",
    "- Visit [Codeup's Blog](https://codeup.com/blog/) and record the urls for at least 5 distinct blog posts. For each post, you should scrape at least the post's title and content.\n",
    "\n",
    "- Encapsulate your work in a function named get_blog_articles that will return a list of dictionaries, with each dictionary representing one article. The shape of each dictionary should look like this:\n",
    "\n",
    "{\n",
    "    'title': 'the title of the article',\n",
    "    'content': 'the full text content of the article'\n",
    "}\n"
   ]
  },
  {
   "cell_type": "code",
   "execution_count": 21,
   "id": "90454a0d",
   "metadata": {},
   "outputs": [],
   "source": [
    "#Setting the URL that I'm going to access:\n",
    "url = 'https://codeup.com/data-science/jobs-after-a-coding-bootcamp-part-1-data-science/'\n",
    "#\n",
    "headers = {'User-Agent': 'Codeup Data Science'}\n",
    "response = get(url, headers=headers)"
   ]
  },
  {
   "cell_type": "code",
   "execution_count": 22,
   "id": "f1338bc4",
   "metadata": {
    "scrolled": true
   },
   "outputs": [
    {
     "name": "stdout",
     "output_type": "stream",
     "text": [
      "<!DOCTYPE html>\n",
      "<html lang=\"en-US\">\n",
      "<head>\n",
      "\t<meta charset=\"UTF-8\" />\n",
      "<meta http-equiv=\"X-UA-Compatible\" content=\"IE=edge\">\n",
      "\t<link rel=\"pingback\" href=\"https://codeup.com/xmlrpc.php\" />\n",
      "\n",
      "\t<script type=\"text/javascript\">\n",
      "\t\tdocument.documentElement.className = 'js';\n",
      "\t</script>\n",
      "\t\n",
      "\t<link rel=\"preconnect\" href=\"https://fonts.gstatic.com\" crossorigin /><script id=\"diviarea-loader\">window.DiviPopupData=window.DiviAreaConfig={\"zIndex\":1000000,\"animateSpeed\":400,\"triggerClassPrefix\":\"show-popup-\",\"idAttri\n"
     ]
    }
   ],
   "source": [
    "#Verifying that the response is valid:\n",
    "print(response.text[:500])"
   ]
  },
  {
   "cell_type": "code",
   "execution_count": 23,
   "id": "12f15d98",
   "metadata": {},
   "outputs": [],
   "source": [
    "#Creating a beautiful soup object to contain the HTML information from the page:\n",
    "soup = BeautifulSoup(response.content, 'html.parser')"
   ]
  },
  {
   "cell_type": "code",
   "execution_count": 10,
   "id": "bd1ee791",
   "metadata": {},
   "outputs": [
    {
     "data": {
      "text/plain": [
       "'What Jobs Can You Get After a Coding Bootcamp?'"
      ]
     },
     "execution_count": 10,
     "metadata": {},
     "output_type": "execute_result"
    }
   ],
   "source": [
    "#Getting the title of the article:\n",
    "soup.title.string"
   ]
  },
  {
   "cell_type": "code",
   "execution_count": 20,
   "id": "20eed033",
   "metadata": {
    "scrolled": true
   },
   "outputs": [
    {
     "data": {
      "text/plain": [
       "[<div class=\"entry-content\">\n",
       " <p><span style=\"font-weight: 400;\">If you are interested in embarking on a career in tech, you’re probably wondering what your new job title could be, and even what your salary might look like.* </span><span style=\"font-weight: 400;\">In this mini-series, we will take each of our programs here at Codeup: Data Science, Web Development, and Cloud Administration, and outline respectively potential job titles, as well as entry-level salaries. </span><span style=\"font-weight: 400;\">Today we will be diving into our </span><a href=\"https://codeup.com/program/data-science/\"><span style=\"font-weight: 400;\">Data Science</span></a><span style=\"font-weight: 400;\"> program, with four potential job titles you could take on!</span></p>\n",
       " <h2><b>Program Overview</b><span style=\"font-weight: 400;\"> </span></h2>\n",
       " <p><span style=\"font-weight: 400;\">During this 20-week program, you will have the opportunity to take your career to new heights with data science being one of the most needed jobs in tech. You’ll gather data, then clean it, explore it for trends, and apply machine learning models to make predictions.</span></p>\n",
       " <p><span style=\"font-weight: 400;\">Upon completing this program, you will know how to turn insights into actionable recommendations. You’ll be a huge asset to any company, having all the technical skills to become a data scientist with projects upon projects of experience under your belt. </span></p>\n",
       " <h3><b></b><b>1. Data Scientist </b></h3>\n",
       " <p><span style=\"font-weight: 400;\">Essentially, a Data Scientist is responsible for analyzing how a business performs to ensure the business stays competitive and relevant. They review the data for deeper meaning and examine it for patterns in an effort to create solutions to business problems. According to </span><a href=\"https://www.ziprecruiter.com/Salaries/Entry-Level-DATA-Scientist-Salary\" rel=\"noopener\" target=\"_blank\"><span style=\"font-weight: 400;\">Zip Recruiter</span></a><span style=\"font-weight: 400;\">, the average entry-level salary for a Data Scientist in Texas is $60,677.</span><b></b></p>\n",
       " <h3><b>2. Data Analyst</b></h3>\n",
       " <p><span style=\"font-weight: 400;\">A Data Analyst finds ways to solve a business’ problems through raw data analysis. They are then responsible for sharing this information with management and stakeholders. According to </span><a href=\"https://www.indeed.com/career/data-analyst/salaries/San-Antonio--TX\" rel=\"noopener\" target=\"_blank\"><span style=\"font-weight: 400;\">Indeed</span></a><span style=\"font-weight: 400;\">, the average entry-level salary for a Data Analyst is $60,332.</span><b></b></p>\n",
       " <h3><b>3. Machine Learning Engineer </b></h3>\n",
       " <p><span style=\"font-weight: 400;\">A Machine Learning (ML) Engineer is usually on a Data Science team. They are responsible for artificial intelligence, and its functions as well as making predictions on other machine learning capabilities. They will create ML prototypes and models, then test and retrain where necessary. According to </span><a href=\"https://www.salary.com/tools/salary-calculator/machine-learning-engineer/san-antonio-tx?yrs=0\" rel=\"noopener\" target=\"_blank\"><span style=\"font-weight: 400;\">Salary.com</span></a><span style=\"font-weight: 400;\">, the average entry-level salary for a ML Engineer is $115,795.</span><b></b></p>\n",
       " <h3><b>4. Business Intelligence Analyst </b></h3>\n",
       " <p><span style=\"font-weight: 400;\">A Business Intelligence Analyst, also known as a BI Analyst is responsible for understanding computer programming languages. Their primary goal is to give accurate insight to decision-makers regarding the market, productivity, competition, and customer responses. According to </span><a href=\"https://www.payscale.com/research/US/Job=Business_Intelligence_(BI)_Analyst/Salary/37381308/Entry-Level-San-Antonio-TX\" rel=\"noopener\" target=\"_blank\"><span style=\"font-weight: 400;\">Payscale</span></a><span style=\"font-weight: 400;\">, the average entry-level salary for a BI Analyst is $58,627.</span></p>\n",
       " <p><span style=\"font-weight: 400;\">We understand changing careers can be scary. If you chose Codeup, we will make sure you are plenty prepared to not only take on one of these roles but succeed in it. </span></p>\n",
       " <p><span style=\"font-weight: 400;\">This program gives you more than a textbook and a bank of pre-recorded lectures. You get hands-on instruction from industry experts, along with the power to change your life. </span></p>\n",
       " <p><span style=\"font-weight: 400;\">If you’re ready, </span><a href=\"https://codeup.com/apply-now/\"><span style=\"font-weight: 400;\">apply today</span></a><span style=\"font-weight: 400;\"> and let’s turn your dreams into reality and get your seat secured in our next Data Science cohort. </span></p>\n",
       " <p> </p>\n",
       " <p><span style=\"font-weight: 400;\">*Disclaimer: All information presented in this article is by no means guaranteed by completing a Codeup program. Salaries and duties vary based on factors such as company, location, and experience. These salaries are estimates based on San Antonio, TX data, and these duties are general and may not be exact for every position. </span></p>\n",
       " <p> </p>\n",
       " </div>]"
      ]
     },
     "execution_count": 20,
     "metadata": {},
     "output_type": "execute_result"
    }
   ],
   "source": [
    "#Getting the content of the article by selecting everything with the 'entry-content' class designation:\n",
    "soup.select(\".entry-content\")"
   ]
  },
  {
   "cell_type": "code",
   "execution_count": 33,
   "id": "88adc722",
   "metadata": {},
   "outputs": [],
   "source": [
    "def get_blog_articles(urls):\n",
    "    codeup_articles = []\n",
    "    article_info = {}\n",
    "    for url in urls:\n",
    "        headers = {'User-Agent': 'Codeup Data Science'}\n",
    "        response = get(url, headers=headers)\n",
    "        soup = BeautifulSoup(response.content, 'html.parser')\n",
    "        title = soup.title.string\n",
    "        contents = soup.select(\".entry-content\")\n",
    "        article_info['url'] = f'{url}'\n",
    "        article_info['title'] = f'{title}'\n",
    "        article_info['contents'] = f'{contents}'\n",
    "        codeup_articles.append(article_info)\n",
    "    return codeup_articles"
   ]
  },
  {
   "cell_type": "code",
   "execution_count": 39,
   "id": "1863fa9f",
   "metadata": {
    "scrolled": true
   },
   "outputs": [],
   "source": [
    "urls = ['https://codeup.com/data-science/jobs-after-a-coding-bootcamp-part-1-data-science/', \n",
    "        'https://codeup.com/featured/what-jobs-can-you-get-after-a-coding-bootcamp-part-2-cloud-administration/',\n",
    "        'https://codeup.com/tips-for-prospective-students/is-our-cloud-administration-program-right-for-you/',\n",
    "        'https://codeup.com/tips-for-prospective-students/mental-health-first-aid-training/',\n",
    "        'https://codeup.com/codeup-news/inclusion-at-codeup-during-pride-month-and-always/']\n",
    "\n",
    "codeup_articles = get_blog_articles(urls)"
   ]
  },
  {
   "cell_type": "code",
   "execution_count": 42,
   "id": "18183fc9",
   "metadata": {},
   "outputs": [
    {
     "data": {
      "text/html": [
       "<div>\n",
       "<style scoped>\n",
       "    .dataframe tbody tr th:only-of-type {\n",
       "        vertical-align: middle;\n",
       "    }\n",
       "\n",
       "    .dataframe tbody tr th {\n",
       "        vertical-align: top;\n",
       "    }\n",
       "\n",
       "    .dataframe thead th {\n",
       "        text-align: right;\n",
       "    }\n",
       "</style>\n",
       "<table border=\"1\" class=\"dataframe\">\n",
       "  <thead>\n",
       "    <tr style=\"text-align: right;\">\n",
       "      <th></th>\n",
       "      <th>url</th>\n",
       "      <th>title</th>\n",
       "      <th>contents</th>\n",
       "    </tr>\n",
       "  </thead>\n",
       "  <tbody>\n",
       "    <tr>\n",
       "      <th>0</th>\n",
       "      <td>https://codeup.com/codeup-news/inclusion-at-co...</td>\n",
       "      <td>Inclusion at Codeup During Pride Month (and Al...</td>\n",
       "      <td>[&lt;div class=\"entry-content\"&gt;\\n&lt;p&gt;Happy Pride M...</td>\n",
       "    </tr>\n",
       "    <tr>\n",
       "      <th>1</th>\n",
       "      <td>https://codeup.com/codeup-news/inclusion-at-co...</td>\n",
       "      <td>Inclusion at Codeup During Pride Month (and Al...</td>\n",
       "      <td>[&lt;div class=\"entry-content\"&gt;\\n&lt;p&gt;Happy Pride M...</td>\n",
       "    </tr>\n",
       "    <tr>\n",
       "      <th>2</th>\n",
       "      <td>https://codeup.com/codeup-news/inclusion-at-co...</td>\n",
       "      <td>Inclusion at Codeup During Pride Month (and Al...</td>\n",
       "      <td>[&lt;div class=\"entry-content\"&gt;\\n&lt;p&gt;Happy Pride M...</td>\n",
       "    </tr>\n",
       "    <tr>\n",
       "      <th>3</th>\n",
       "      <td>https://codeup.com/codeup-news/inclusion-at-co...</td>\n",
       "      <td>Inclusion at Codeup During Pride Month (and Al...</td>\n",
       "      <td>[&lt;div class=\"entry-content\"&gt;\\n&lt;p&gt;Happy Pride M...</td>\n",
       "    </tr>\n",
       "    <tr>\n",
       "      <th>4</th>\n",
       "      <td>https://codeup.com/codeup-news/inclusion-at-co...</td>\n",
       "      <td>Inclusion at Codeup During Pride Month (and Al...</td>\n",
       "      <td>[&lt;div class=\"entry-content\"&gt;\\n&lt;p&gt;Happy Pride M...</td>\n",
       "    </tr>\n",
       "  </tbody>\n",
       "</table>\n",
       "</div>"
      ],
      "text/plain": [
       "                                                 url  \\\n",
       "0  https://codeup.com/codeup-news/inclusion-at-co...   \n",
       "1  https://codeup.com/codeup-news/inclusion-at-co...   \n",
       "2  https://codeup.com/codeup-news/inclusion-at-co...   \n",
       "3  https://codeup.com/codeup-news/inclusion-at-co...   \n",
       "4  https://codeup.com/codeup-news/inclusion-at-co...   \n",
       "\n",
       "                                               title  \\\n",
       "0  Inclusion at Codeup During Pride Month (and Al...   \n",
       "1  Inclusion at Codeup During Pride Month (and Al...   \n",
       "2  Inclusion at Codeup During Pride Month (and Al...   \n",
       "3  Inclusion at Codeup During Pride Month (and Al...   \n",
       "4  Inclusion at Codeup During Pride Month (and Al...   \n",
       "\n",
       "                                            contents  \n",
       "0  [<div class=\"entry-content\">\\n<p>Happy Pride M...  \n",
       "1  [<div class=\"entry-content\">\\n<p>Happy Pride M...  \n",
       "2  [<div class=\"entry-content\">\\n<p>Happy Pride M...  \n",
       "3  [<div class=\"entry-content\">\\n<p>Happy Pride M...  \n",
       "4  [<div class=\"entry-content\">\\n<p>Happy Pride M...  "
      ]
     },
     "execution_count": 42,
     "metadata": {},
     "output_type": "execute_result"
    }
   ],
   "source": [
    "df = pd.DataFrame(codeup_articles)\n",
    "df"
   ]
  },
  {
   "cell_type": "markdown",
   "id": "1c6ef02a",
   "metadata": {},
   "source": [
    "## 2. News Articles:\n",
    "\n",
    "- We will now be scraping text data from inshorts, a website that provides a brief overview of many different topics.\n",
    "\n",
    "- Write a function that scrapes the news articles for the following topics:\n",
    "    - Business\n",
    "    - Sports\n",
    "    - Technology\n",
    "    - Entertainment\n",
    "\n",
    "- The end product of this should be a function named get_news_articles that returns a list of dictionaries, where each dictionary has this shape:\n",
    "\n",
    "{\n",
    "    'title': 'The article title',\n",
    "    'content': 'The article content',\n",
    "    'category': 'business' # for example\n",
    "}\n",
    "\n",
    "Hints:\n",
    "- a. Start by inspecting the website in your browser. Figure out which elements will be useful.\n",
    "- b. Start by creating a function that handles a single article and produces a dictionary like the one above.\n",
    "- c. Next create a function that will find all the articles on a single page and call the function you created in the last step for every article on the page.\n",
    "- d. Now create a function that will use the previous two functions to scrape the articles from all the pages that you need, and do any additional processing that needs to be done."
   ]
  },
  {
   "cell_type": "code",
   "execution_count": 43,
   "id": "b06be511",
   "metadata": {},
   "outputs": [],
   "source": [
    "#Setting the URL that I'm going to access:\n",
    "url = 'https://inshorts.com/en/read'\n",
    "#\n",
    "headers = {'User-Agent': 'Codeup Data Science'}\n",
    "response = get(url, headers=headers)"
   ]
  },
  {
   "cell_type": "code",
   "execution_count": 44,
   "id": "e358e67e",
   "metadata": {},
   "outputs": [],
   "source": [
    "#Creating a beautiful soup object to contain the HTML information from the page:\n",
    "soup = BeautifulSoup(response.content, 'html.parser')"
   ]
  },
  {
   "cell_type": "code",
   "execution_count": null,
   "id": "2cf63550",
   "metadata": {},
   "outputs": [],
   "source": [
    "title = soup.find_all(itemprop=\"headline\")\n",
    "content  = soup.find_all(itemprop=\"articleBody\")"
   ]
  },
  {
   "cell_type": "code",
   "execution_count": 134,
   "id": "054549df",
   "metadata": {},
   "outputs": [],
   "source": [
    "def get_shorts_articles(categories):\n",
    "    inshorts_articles = []\n",
    "    for category in categories:\n",
    "        article_info = pd.DataFrame()\n",
    "        url = f'https://inshorts.com/en/read/{category}'\n",
    "        headers = {'User-Agent': 'Codeup Data Science'}\n",
    "        response = get(url, headers=headers)\n",
    "        titles = soup.find_all(itemprop = 'headline')\n",
    "        contents = soup.find_all(itemprop = 'articleBody')\n",
    "        #for title, contents in zip(titles, contents):\n",
    "            #article_info = {\n",
    "                #'title': title,\n",
    "                #'content': content, \n",
    "                #'category': category\n",
    "            #}\n",
    "        #article_info['url'] = f'{url}'\n",
    "        article_info['title'] = [title.text for title in titles]\n",
    "        print(article_info)\n",
    "        article_info['contents'] = [content.text for content in contents]\n",
    "        article_info['category'] = category\n",
    "        inshorts_articles.append(article_info)\n",
    "    inshorts_articles = pd.concat(inshorts_articles)\n",
    "    return inshorts_articles"
   ]
  },
  {
   "cell_type": "code",
   "execution_count": 135,
   "id": "6dee7950",
   "metadata": {},
   "outputs": [
    {
     "name": "stdout",
     "output_type": "stream",
     "text": [
      "                                                title\n",
      "0   Govt plans 'Right to Repair' framework to help...\n",
      "1   Kartik to make cameo in Luv Ranjan's Ranbir, S...\n",
      "2   Bagwati in background: Abhay on 11 yrs of 'Zin...\n",
      "3   Bankrupt crypto lender Celsius reveals it owes...\n",
      "4   Celsius becomes 3rd major crypto firm to file ...\n",
      "5   Crypto must come under auto info-exchange mech...\n",
      "6   Briton in detention in Ukraine's breakaway reg...\n",
      "7   Finland replaces Russia as host of 6th leg of ...\n",
      "8   Go and cause chaos, he's such a good player: V...\n",
      "9   Indian duo of Arjun-Kapila crashes out in Sing...\n",
      "10  Wimbledon champ Rybakina to donate £2-mn prize...\n",
      "11  It seemed like Pant had premeditated his shot ...\n",
      "12  Doctor recommended cannabis use: Griner amid R...\n",
      "13  Kerur violence victim's wife throws ₹2 lakh ai...\n",
      "14  BJP appoints Laxmikant Bajpai as chief whip of...\n",
      "15  No Cabinet in Maha amid flood situation will h...\n",
      "16  Will quit politics if any MLA who joined me lo...\n",
      "17                  Assam exports 600-kg lemons to UK\n",
      "18  3 teenagers drown while bathing in Jharkhand pond\n",
      "19  Punjab HC judge recuses from hearing Bikram Ma...\n",
      "20        Former Gambian spy chief sentenced to death\n",
      "21  Hamas rejects US President's expression of sym...\n",
      "22  Biden becomes 1st US Prez to fly directly from...\n",
      "23  1,000 firefighters, 10 water planes battle for...\n",
      "24  Putin reshuffles his senior ministers amid Ukr...\n",
      "                                                title\n",
      "0   Govt plans 'Right to Repair' framework to help...\n",
      "1   Kartik to make cameo in Luv Ranjan's Ranbir, S...\n",
      "2   Bagwati in background: Abhay on 11 yrs of 'Zin...\n",
      "3   Bankrupt crypto lender Celsius reveals it owes...\n",
      "4   Celsius becomes 3rd major crypto firm to file ...\n",
      "5   Crypto must come under auto info-exchange mech...\n",
      "6   Briton in detention in Ukraine's breakaway reg...\n",
      "7   Finland replaces Russia as host of 6th leg of ...\n",
      "8   Go and cause chaos, he's such a good player: V...\n",
      "9   Indian duo of Arjun-Kapila crashes out in Sing...\n",
      "10  Wimbledon champ Rybakina to donate £2-mn prize...\n",
      "11  It seemed like Pant had premeditated his shot ...\n",
      "12  Doctor recommended cannabis use: Griner amid R...\n",
      "13  Kerur violence victim's wife throws ₹2 lakh ai...\n",
      "14  BJP appoints Laxmikant Bajpai as chief whip of...\n",
      "15  No Cabinet in Maha amid flood situation will h...\n",
      "16  Will quit politics if any MLA who joined me lo...\n",
      "17                  Assam exports 600-kg lemons to UK\n",
      "18  3 teenagers drown while bathing in Jharkhand pond\n",
      "19  Punjab HC judge recuses from hearing Bikram Ma...\n",
      "20        Former Gambian spy chief sentenced to death\n",
      "21  Hamas rejects US President's expression of sym...\n",
      "22  Biden becomes 1st US Prez to fly directly from...\n",
      "23  1,000 firefighters, 10 water planes battle for...\n",
      "24  Putin reshuffles his senior ministers amid Ukr...\n",
      "                                                title\n",
      "0   Govt plans 'Right to Repair' framework to help...\n",
      "1   Kartik to make cameo in Luv Ranjan's Ranbir, S...\n",
      "2   Bagwati in background: Abhay on 11 yrs of 'Zin...\n",
      "3   Bankrupt crypto lender Celsius reveals it owes...\n",
      "4   Celsius becomes 3rd major crypto firm to file ...\n",
      "5   Crypto must come under auto info-exchange mech...\n",
      "6   Briton in detention in Ukraine's breakaway reg...\n",
      "7   Finland replaces Russia as host of 6th leg of ...\n",
      "8   Go and cause chaos, he's such a good player: V...\n",
      "9   Indian duo of Arjun-Kapila crashes out in Sing...\n",
      "10  Wimbledon champ Rybakina to donate £2-mn prize...\n",
      "11  It seemed like Pant had premeditated his shot ...\n",
      "12  Doctor recommended cannabis use: Griner amid R...\n",
      "13  Kerur violence victim's wife throws ₹2 lakh ai...\n",
      "14  BJP appoints Laxmikant Bajpai as chief whip of...\n",
      "15  No Cabinet in Maha amid flood situation will h...\n",
      "16  Will quit politics if any MLA who joined me lo...\n",
      "17                  Assam exports 600-kg lemons to UK\n",
      "18  3 teenagers drown while bathing in Jharkhand pond\n",
      "19  Punjab HC judge recuses from hearing Bikram Ma...\n",
      "20        Former Gambian spy chief sentenced to death\n",
      "21  Hamas rejects US President's expression of sym...\n",
      "22  Biden becomes 1st US Prez to fly directly from...\n",
      "23  1,000 firefighters, 10 water planes battle for...\n",
      "24  Putin reshuffles his senior ministers amid Ukr...\n",
      "                                                title\n",
      "0   Govt plans 'Right to Repair' framework to help...\n",
      "1   Kartik to make cameo in Luv Ranjan's Ranbir, S...\n",
      "2   Bagwati in background: Abhay on 11 yrs of 'Zin...\n",
      "3   Bankrupt crypto lender Celsius reveals it owes...\n",
      "4   Celsius becomes 3rd major crypto firm to file ...\n",
      "5   Crypto must come under auto info-exchange mech...\n",
      "6   Briton in detention in Ukraine's breakaway reg...\n",
      "7   Finland replaces Russia as host of 6th leg of ...\n",
      "8   Go and cause chaos, he's such a good player: V...\n",
      "9   Indian duo of Arjun-Kapila crashes out in Sing...\n",
      "10  Wimbledon champ Rybakina to donate £2-mn prize...\n",
      "11  It seemed like Pant had premeditated his shot ...\n",
      "12  Doctor recommended cannabis use: Griner amid R...\n",
      "13  Kerur violence victim's wife throws ₹2 lakh ai...\n",
      "14  BJP appoints Laxmikant Bajpai as chief whip of...\n",
      "15  No Cabinet in Maha amid flood situation will h...\n",
      "16  Will quit politics if any MLA who joined me lo...\n",
      "17                  Assam exports 600-kg lemons to UK\n",
      "18  3 teenagers drown while bathing in Jharkhand pond\n",
      "19  Punjab HC judge recuses from hearing Bikram Ma...\n",
      "20        Former Gambian spy chief sentenced to death\n",
      "21  Hamas rejects US President's expression of sym...\n",
      "22  Biden becomes 1st US Prez to fly directly from...\n",
      "23  1,000 firefighters, 10 water planes battle for...\n",
      "24  Putin reshuffles his senior ministers amid Ukr...\n"
     ]
    }
   ],
   "source": [
    "categories = ['business', 'sports', 'technology', 'entertainment']\n",
    "\n",
    "inshorts_articles = get_shorts_articles(categories)"
   ]
  },
  {
   "cell_type": "code",
   "execution_count": 129,
   "id": "28c1c979",
   "metadata": {},
   "outputs": [
    {
     "data": {
      "text/plain": [
       "0    Govt plans 'Right to Repair' framework to help...\n",
       "0    Govt plans 'Right to Repair' framework to help...\n",
       "0    Govt plans 'Right to Repair' framework to help...\n",
       "0    Govt plans 'Right to Repair' framework to help...\n",
       "Name: title, dtype: object"
      ]
     },
     "execution_count": 129,
     "metadata": {},
     "output_type": "execute_result"
    }
   ],
   "source": [
    "inshorts_articles['title'][0]"
   ]
  },
  {
   "cell_type": "code",
   "execution_count": 132,
   "id": "54cf580e",
   "metadata": {},
   "outputs": [
    {
     "data": {
      "text/html": [
       "<div>\n",
       "<style scoped>\n",
       "    .dataframe tbody tr th:only-of-type {\n",
       "        vertical-align: middle;\n",
       "    }\n",
       "\n",
       "    .dataframe tbody tr th {\n",
       "        vertical-align: top;\n",
       "    }\n",
       "\n",
       "    .dataframe thead th {\n",
       "        text-align: right;\n",
       "    }\n",
       "</style>\n",
       "<table border=\"1\" class=\"dataframe\">\n",
       "  <thead>\n",
       "    <tr style=\"text-align: right;\">\n",
       "      <th></th>\n",
       "      <th>title</th>\n",
       "      <th>contents</th>\n",
       "      <th>category</th>\n",
       "    </tr>\n",
       "  </thead>\n",
       "  <tbody>\n",
       "    <tr>\n",
       "      <th>0</th>\n",
       "      <td>Govt plans 'Right to Repair' framework to help...</td>\n",
       "      <td>The government is working on a 'Right to Repai...</td>\n",
       "      <td>business</td>\n",
       "    </tr>\n",
       "    <tr>\n",
       "      <th>1</th>\n",
       "      <td>Kartik to make cameo in Luv Ranjan's Ranbir, S...</td>\n",
       "      <td>Actor Kartik Aaryan will be making a special a...</td>\n",
       "      <td>business</td>\n",
       "    </tr>\n",
       "    <tr>\n",
       "      <th>2</th>\n",
       "      <td>Bagwati in background: Abhay on 11 yrs of 'Zin...</td>\n",
       "      <td>Actor Abhay Deol shared a series of selfies on...</td>\n",
       "      <td>business</td>\n",
       "    </tr>\n",
       "    <tr>\n",
       "      <th>3</th>\n",
       "      <td>Bankrupt crypto lender Celsius reveals it owes...</td>\n",
       "      <td>Crypto lender Celsius, which has filed for ban...</td>\n",
       "      <td>business</td>\n",
       "    </tr>\n",
       "    <tr>\n",
       "      <th>4</th>\n",
       "      <td>Celsius becomes 3rd major crypto firm to file ...</td>\n",
       "      <td>Celsius has become the third major crypto firm...</td>\n",
       "      <td>business</td>\n",
       "    </tr>\n",
       "    <tr>\n",
       "      <th>...</th>\n",
       "      <td>...</td>\n",
       "      <td>...</td>\n",
       "      <td>...</td>\n",
       "    </tr>\n",
       "    <tr>\n",
       "      <th>20</th>\n",
       "      <td>Former Gambian spy chief sentenced to death</td>\n",
       "      <td>A court in Gambia has sentenced the country's ...</td>\n",
       "      <td>entertainment</td>\n",
       "    </tr>\n",
       "    <tr>\n",
       "      <th>21</th>\n",
       "      <td>Hamas rejects US President's expression of sym...</td>\n",
       "      <td>Gaza's militant group Hamas has rejected US Pr...</td>\n",
       "      <td>entertainment</td>\n",
       "    </tr>\n",
       "    <tr>\n",
       "      <th>22</th>\n",
       "      <td>Biden becomes 1st US Prez to fly directly from...</td>\n",
       "      <td>Joe Biden has become the first US President to...</td>\n",
       "      <td>entertainment</td>\n",
       "    </tr>\n",
       "    <tr>\n",
       "      <th>23</th>\n",
       "      <td>1,000 firefighters, 10 water planes battle for...</td>\n",
       "      <td>A thousand firefighters supported by 10 water-...</td>\n",
       "      <td>entertainment</td>\n",
       "    </tr>\n",
       "    <tr>\n",
       "      <th>24</th>\n",
       "      <td>Putin reshuffles his senior ministers amid Ukr...</td>\n",
       "      <td>Russian President Vladimir Putin on Friday res...</td>\n",
       "      <td>entertainment</td>\n",
       "    </tr>\n",
       "  </tbody>\n",
       "</table>\n",
       "<p>100 rows × 3 columns</p>\n",
       "</div>"
      ],
      "text/plain": [
       "                                                title  \\\n",
       "0   Govt plans 'Right to Repair' framework to help...   \n",
       "1   Kartik to make cameo in Luv Ranjan's Ranbir, S...   \n",
       "2   Bagwati in background: Abhay on 11 yrs of 'Zin...   \n",
       "3   Bankrupt crypto lender Celsius reveals it owes...   \n",
       "4   Celsius becomes 3rd major crypto firm to file ...   \n",
       "..                                                ...   \n",
       "20        Former Gambian spy chief sentenced to death   \n",
       "21  Hamas rejects US President's expression of sym...   \n",
       "22  Biden becomes 1st US Prez to fly directly from...   \n",
       "23  1,000 firefighters, 10 water planes battle for...   \n",
       "24  Putin reshuffles his senior ministers amid Ukr...   \n",
       "\n",
       "                                             contents       category  \n",
       "0   The government is working on a 'Right to Repai...       business  \n",
       "1   Actor Kartik Aaryan will be making a special a...       business  \n",
       "2   Actor Abhay Deol shared a series of selfies on...       business  \n",
       "3   Crypto lender Celsius, which has filed for ban...       business  \n",
       "4   Celsius has become the third major crypto firm...       business  \n",
       "..                                                ...            ...  \n",
       "20  A court in Gambia has sentenced the country's ...  entertainment  \n",
       "21  Gaza's militant group Hamas has rejected US Pr...  entertainment  \n",
       "22  Joe Biden has become the first US President to...  entertainment  \n",
       "23  A thousand firefighters supported by 10 water-...  entertainment  \n",
       "24  Russian President Vladimir Putin on Friday res...  entertainment  \n",
       "\n",
       "[100 rows x 3 columns]"
      ]
     },
     "execution_count": 132,
     "metadata": {},
     "output_type": "execute_result"
    }
   ],
   "source": [
    "inshorts_articles"
   ]
  },
  {
   "cell_type": "markdown",
   "id": "2c2c925b",
   "metadata": {},
   "source": [
    "## 3. Bonus: cache the data\n",
    "\n",
    "Write your code such that the acquired data is saved locally in some form or fashion. Your functions that retrieve the data should prefer to read the local data instead of having to make all the requests everytime the function is called. Include a boolean flag in the functions to allow the data to be acquired \"fresh\" from the actual sources (re-writing your local cache)."
   ]
  },
  {
   "cell_type": "code",
   "execution_count": null,
   "id": "a9bfb3da",
   "metadata": {},
   "outputs": [],
   "source": []
  }
 ],
 "metadata": {
  "kernelspec": {
   "display_name": "Python 3 (ipykernel)",
   "language": "python",
   "name": "python3"
  },
  "language_info": {
   "codemirror_mode": {
    "name": "ipython",
    "version": 3
   },
   "file_extension": ".py",
   "mimetype": "text/x-python",
   "name": "python",
   "nbconvert_exporter": "python",
   "pygments_lexer": "ipython3",
   "version": "3.9.7"
  }
 },
 "nbformat": 4,
 "nbformat_minor": 5
}
