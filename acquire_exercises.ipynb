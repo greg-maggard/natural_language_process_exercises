{
 "cells": [
  {
   "cell_type": "code",
   "execution_count": 1,
   "id": "8a3ccdfd",
   "metadata": {},
   "outputs": [],
   "source": [
    "import pandas as pd\n",
    "from requests import get\n",
    "from bs4 import BeautifulSoup\n",
    "import os"
   ]
  },
  {
   "cell_type": "markdown",
   "id": "d0290849",
   "metadata": {},
   "source": [
    "# Exercises:"
   ]
  },
  {
   "cell_type": "markdown",
   "id": "e1e1fefd",
   "metadata": {},
   "source": [
    "## 1. Codeup Blog Articles\n",
    "\n",
    "- Visit [Codeup's Blog](https://codeup.com/blog/) and record the urls for at least 5 distinct blog posts. For each post, you should scrape at least the post's title and content.\n",
    "\n",
    "- Encapsulate your work in a function named get_blog_articles that will return a list of dictionaries, with each dictionary representing one article. The shape of each dictionary should look like this:\n",
    "\n",
    "{\n",
    "    'title': 'the title of the article',\n",
    "    'content': 'the full text content of the article'\n",
    "}\n"
   ]
  },
  {
   "cell_type": "code",
   "execution_count": 2,
   "id": "01e56431",
   "metadata": {},
   "outputs": [],
   "source": [
    "#Setting the URL that I'm going to access:\n",
    "url = 'https://codeup.com/data-science/jobs-after-a-coding-bootcamp-part-1-data-science/'\n",
    "#\n",
    "headers = {'User-Agent': 'Codeup Data Science'}\n",
    "response = get(url, headers=headers)"
   ]
  },
  {
   "cell_type": "code",
   "execution_count": 3,
   "id": "5d18d24d",
   "metadata": {
    "scrolled": true
   },
   "outputs": [
    {
     "name": "stdout",
     "output_type": "stream",
     "text": [
      "<!DOCTYPE html>\n",
      "<html lang=\"en-US\">\n",
      "<head>\n",
      "\t<meta charset=\"UTF-8\" />\n",
      "<meta http-equiv=\"X-UA-Compatible\" content=\"IE=edge\">\n",
      "\t<link rel=\"pingback\" href=\"https://codeup.com/xmlrpc.php\" />\n",
      "\n",
      "\t<script type=\"text/javascript\">\n",
      "\t\tdocument.documentElement.className = 'js';\n",
      "\t</script>\n",
      "\t\n",
      "\t<link rel=\"preconnect\" href=\"https://fonts.gstatic.com\" crossorigin /><script id=\"diviarea-loader\">window.DiviPopupData=window.DiviAreaConfig={\"zIndex\":1000000,\"animateSpeed\":400,\"triggerClassPrefix\":\"show-popup-\",\"idAttri\n"
     ]
    }
   ],
   "source": [
    "#Verifying that the response is valid:\n",
    "print(response.text[:500])"
   ]
  },
  {
   "cell_type": "code",
   "execution_count": 4,
   "id": "a5adeec6",
   "metadata": {},
   "outputs": [],
   "source": [
    "#Creating a beautiful soup object to contain the HTML information from the page:\n",
    "soup = BeautifulSoup(response.content, 'html.parser')"
   ]
  },
  {
   "cell_type": "code",
   "execution_count": 5,
   "id": "2ac5e3a6",
   "metadata": {},
   "outputs": [
    {
     "data": {
      "text/plain": [
       "'What Jobs Can You Get After a Coding Bootcamp?'"
      ]
     },
     "execution_count": 5,
     "metadata": {},
     "output_type": "execute_result"
    }
   ],
   "source": [
    "#Getting the title of the article:\n",
    "soup.title.string"
   ]
  },
  {
   "cell_type": "code",
   "execution_count": 6,
   "id": "13a7bcd5",
   "metadata": {
    "scrolled": true
   },
   "outputs": [
    {
     "data": {
      "text/plain": [
       "[<div class=\"entry-content\">\n",
       " <p><span style=\"font-weight: 400;\">If you are interested in embarking on a career in tech, you’re probably wondering what your new job title could be, and even what your salary might look like.* </span><span style=\"font-weight: 400;\">In this mini-series, we will take each of our programs here at Codeup: Data Science, Web Development, and Cloud Administration, and outline respectively potential job titles, as well as entry-level salaries. </span><span style=\"font-weight: 400;\">Today we will be diving into our </span><a href=\"https://codeup.com/program/data-science/\"><span style=\"font-weight: 400;\">Data Science</span></a><span style=\"font-weight: 400;\"> program, with four potential job titles you could take on!</span></p>\n",
       " <h2><b>Program Overview</b><span style=\"font-weight: 400;\"> </span></h2>\n",
       " <p><span style=\"font-weight: 400;\">During this 20-week program, you will have the opportunity to take your career to new heights with data science being one of the most needed jobs in tech. You’ll gather data, then clean it, explore it for trends, and apply machine learning models to make predictions.</span></p>\n",
       " <p><span style=\"font-weight: 400;\">Upon completing this program, you will know how to turn insights into actionable recommendations. You’ll be a huge asset to any company, having all the technical skills to become a data scientist with projects upon projects of experience under your belt. </span></p>\n",
       " <h3><b></b><b>1. Data Scientist </b></h3>\n",
       " <p><span style=\"font-weight: 400;\">Essentially, a Data Scientist is responsible for analyzing how a business performs to ensure the business stays competitive and relevant. They review the data for deeper meaning and examine it for patterns in an effort to create solutions to business problems. According to </span><a href=\"https://www.ziprecruiter.com/Salaries/Entry-Level-DATA-Scientist-Salary\" rel=\"noopener\" target=\"_blank\"><span style=\"font-weight: 400;\">Zip Recruiter</span></a><span style=\"font-weight: 400;\">, the average entry-level salary for a Data Scientist in Texas is $60,677.</span><b></b></p>\n",
       " <h3><b>2. Data Analyst</b></h3>\n",
       " <p><span style=\"font-weight: 400;\">A Data Analyst finds ways to solve a business’ problems through raw data analysis. They are then responsible for sharing this information with management and stakeholders. According to </span><a href=\"https://www.indeed.com/career/data-analyst/salaries/San-Antonio--TX\" rel=\"noopener\" target=\"_blank\"><span style=\"font-weight: 400;\">Indeed</span></a><span style=\"font-weight: 400;\">, the average entry-level salary for a Data Analyst is $60,332.</span><b></b></p>\n",
       " <h3><b>3. Machine Learning Engineer </b></h3>\n",
       " <p><span style=\"font-weight: 400;\">A Machine Learning (ML) Engineer is usually on a Data Science team. They are responsible for artificial intelligence, and its functions as well as making predictions on other machine learning capabilities. They will create ML prototypes and models, then test and retrain where necessary. According to </span><a href=\"https://www.salary.com/tools/salary-calculator/machine-learning-engineer/san-antonio-tx?yrs=0\" rel=\"noopener\" target=\"_blank\"><span style=\"font-weight: 400;\">Salary.com</span></a><span style=\"font-weight: 400;\">, the average entry-level salary for a ML Engineer is $115,795.</span><b></b></p>\n",
       " <h3><b>4. Business Intelligence Analyst </b></h3>\n",
       " <p><span style=\"font-weight: 400;\">A Business Intelligence Analyst, also known as a BI Analyst is responsible for understanding computer programming languages. Their primary goal is to give accurate insight to decision-makers regarding the market, productivity, competition, and customer responses. According to </span><a href=\"https://www.payscale.com/research/US/Job=Business_Intelligence_(BI)_Analyst/Salary/37381308/Entry-Level-San-Antonio-TX\" rel=\"noopener\" target=\"_blank\"><span style=\"font-weight: 400;\">Payscale</span></a><span style=\"font-weight: 400;\">, the average entry-level salary for a BI Analyst is $58,627.</span></p>\n",
       " <p><span style=\"font-weight: 400;\">We understand changing careers can be scary. If you chose Codeup, we will make sure you are plenty prepared to not only take on one of these roles but succeed in it. </span></p>\n",
       " <p><span style=\"font-weight: 400;\">This program gives you more than a textbook and a bank of pre-recorded lectures. You get hands-on instruction from industry experts, along with the power to change your life. </span></p>\n",
       " <p><span style=\"font-weight: 400;\">If you’re ready, </span><a href=\"https://codeup.com/apply-now/\"><span style=\"font-weight: 400;\">apply today</span></a><span style=\"font-weight: 400;\"> and let’s turn your dreams into reality and get your seat secured in our next Data Science cohort. </span></p>\n",
       " <p> </p>\n",
       " <p><span style=\"font-weight: 400;\">*Disclaimer: All information presented in this article is by no means guaranteed by completing a Codeup program. Salaries and duties vary based on factors such as company, location, and experience. These salaries are estimates based on San Antonio, TX data, and these duties are general and may not be exact for every position. </span></p>\n",
       " <p> </p>\n",
       " </div>]"
      ]
     },
     "execution_count": 6,
     "metadata": {},
     "output_type": "execute_result"
    }
   ],
   "source": [
    "#Getting the content of the article by selecting everything with the 'entry-content' class designation:\n",
    "soup.select(\".entry-content\")"
   ]
  },
  {
   "cell_type": "code",
   "execution_count": 7,
   "id": "5ca7a5b1",
   "metadata": {},
   "outputs": [],
   "source": [
    "def get_blog_articles(urls):\n",
    "    codeup_articles = []\n",
    "    article_info = {}\n",
    "    for url in urls:\n",
    "        headers = {'User-Agent': 'Codeup Data Science'}\n",
    "        response = get(url, headers=headers)\n",
    "        soup = BeautifulSoup(response.content, 'html.parser')\n",
    "        title = soup.title.string\n",
    "        contents = soup.select(\".entry-content\")\n",
    "        article_info['url'] = f'{url}'\n",
    "        article_info['title'] = f'{title}'\n",
    "        article_info['contents'] = f'{contents}'\n",
    "        codeup_articles.append(article_info)\n",
    "    return codeup_articles"
   ]
  },
  {
   "cell_type": "code",
   "execution_count": 8,
   "id": "44c4726d",
   "metadata": {
    "scrolled": true
   },
   "outputs": [],
   "source": [
    "urls = ['https://codeup.com/data-science/jobs-after-a-coding-bootcamp-part-1-data-science/', \n",
    "        'https://codeup.com/featured/what-jobs-can-you-get-after-a-coding-bootcamp-part-2-cloud-administration/',\n",
    "        'https://codeup.com/tips-for-prospective-students/is-our-cloud-administration-program-right-for-you/',\n",
    "        'https://codeup.com/tips-for-prospective-students/mental-health-first-aid-training/',\n",
    "        'https://codeup.com/codeup-news/inclusion-at-codeup-during-pride-month-and-always/']\n",
    "\n",
    "codeup_articles = get_blog_articles(urls)"
   ]
  },
  {
   "cell_type": "code",
   "execution_count": 9,
   "id": "7f6b3574",
   "metadata": {},
   "outputs": [
    {
     "data": {
      "text/html": [
       "<div>\n",
       "<style scoped>\n",
       "    .dataframe tbody tr th:only-of-type {\n",
       "        vertical-align: middle;\n",
       "    }\n",
       "\n",
       "    .dataframe tbody tr th {\n",
       "        vertical-align: top;\n",
       "    }\n",
       "\n",
       "    .dataframe thead th {\n",
       "        text-align: right;\n",
       "    }\n",
       "</style>\n",
       "<table border=\"1\" class=\"dataframe\">\n",
       "  <thead>\n",
       "    <tr style=\"text-align: right;\">\n",
       "      <th></th>\n",
       "      <th>url</th>\n",
       "      <th>title</th>\n",
       "      <th>contents</th>\n",
       "    </tr>\n",
       "  </thead>\n",
       "  <tbody>\n",
       "    <tr>\n",
       "      <th>0</th>\n",
       "      <td>https://codeup.com/codeup-news/inclusion-at-co...</td>\n",
       "      <td>Inclusion at Codeup During Pride Month (and Al...</td>\n",
       "      <td>[&lt;div class=\"entry-content\"&gt;\\n&lt;p&gt;Happy Pride M...</td>\n",
       "    </tr>\n",
       "    <tr>\n",
       "      <th>1</th>\n",
       "      <td>https://codeup.com/codeup-news/inclusion-at-co...</td>\n",
       "      <td>Inclusion at Codeup During Pride Month (and Al...</td>\n",
       "      <td>[&lt;div class=\"entry-content\"&gt;\\n&lt;p&gt;Happy Pride M...</td>\n",
       "    </tr>\n",
       "    <tr>\n",
       "      <th>2</th>\n",
       "      <td>https://codeup.com/codeup-news/inclusion-at-co...</td>\n",
       "      <td>Inclusion at Codeup During Pride Month (and Al...</td>\n",
       "      <td>[&lt;div class=\"entry-content\"&gt;\\n&lt;p&gt;Happy Pride M...</td>\n",
       "    </tr>\n",
       "    <tr>\n",
       "      <th>3</th>\n",
       "      <td>https://codeup.com/codeup-news/inclusion-at-co...</td>\n",
       "      <td>Inclusion at Codeup During Pride Month (and Al...</td>\n",
       "      <td>[&lt;div class=\"entry-content\"&gt;\\n&lt;p&gt;Happy Pride M...</td>\n",
       "    </tr>\n",
       "    <tr>\n",
       "      <th>4</th>\n",
       "      <td>https://codeup.com/codeup-news/inclusion-at-co...</td>\n",
       "      <td>Inclusion at Codeup During Pride Month (and Al...</td>\n",
       "      <td>[&lt;div class=\"entry-content\"&gt;\\n&lt;p&gt;Happy Pride M...</td>\n",
       "    </tr>\n",
       "  </tbody>\n",
       "</table>\n",
       "</div>"
      ],
      "text/plain": [
       "                                                 url  \\\n",
       "0  https://codeup.com/codeup-news/inclusion-at-co...   \n",
       "1  https://codeup.com/codeup-news/inclusion-at-co...   \n",
       "2  https://codeup.com/codeup-news/inclusion-at-co...   \n",
       "3  https://codeup.com/codeup-news/inclusion-at-co...   \n",
       "4  https://codeup.com/codeup-news/inclusion-at-co...   \n",
       "\n",
       "                                               title  \\\n",
       "0  Inclusion at Codeup During Pride Month (and Al...   \n",
       "1  Inclusion at Codeup During Pride Month (and Al...   \n",
       "2  Inclusion at Codeup During Pride Month (and Al...   \n",
       "3  Inclusion at Codeup During Pride Month (and Al...   \n",
       "4  Inclusion at Codeup During Pride Month (and Al...   \n",
       "\n",
       "                                            contents  \n",
       "0  [<div class=\"entry-content\">\\n<p>Happy Pride M...  \n",
       "1  [<div class=\"entry-content\">\\n<p>Happy Pride M...  \n",
       "2  [<div class=\"entry-content\">\\n<p>Happy Pride M...  \n",
       "3  [<div class=\"entry-content\">\\n<p>Happy Pride M...  \n",
       "4  [<div class=\"entry-content\">\\n<p>Happy Pride M...  "
      ]
     },
     "execution_count": 9,
     "metadata": {},
     "output_type": "execute_result"
    }
   ],
   "source": [
    "df = pd.DataFrame(codeup_articles)\n",
    "df"
   ]
  },
  {
   "cell_type": "markdown",
   "id": "4d3345dd",
   "metadata": {},
   "source": [
    "## 2. News Articles:\n",
    "\n",
    "- We will now be scraping text data from inshorts, a website that provides a brief overview of many different topics.\n",
    "\n",
    "- Write a function that scrapes the news articles for the following topics:\n",
    "    - Business\n",
    "    - Sports\n",
    "    - Technology\n",
    "    - Entertainment\n",
    "\n",
    "- The end product of this should be a function named get_news_articles that returns a list of dictionaries, where each dictionary has this shape:\n",
    "\n",
    "{\n",
    "    'title': 'The article title',\n",
    "    'content': 'The article content',\n",
    "    'category': 'business' # for example\n",
    "}\n",
    "\n",
    "Hints:\n",
    "- a. Start by inspecting the website in your browser. Figure out which elements will be useful.\n",
    "- b. Start by creating a function that handles a single article and produces a dictionary like the one above.\n",
    "- c. Next create a function that will find all the articles on a single page and call the function you created in the last step for every article on the page.\n",
    "- d. Now create a function that will use the previous two functions to scrape the articles from all the pages that you need, and do any additional processing that needs to be done."
   ]
  },
  {
   "cell_type": "code",
   "execution_count": 10,
   "id": "7789d9ac",
   "metadata": {},
   "outputs": [],
   "source": [
    "#Setting the URL that I'm going to access:\n",
    "url = 'https://inshorts.com/en/read'\n",
    "#\n",
    "headers = {'User-Agent': 'Codeup Data Science'}\n",
    "response = get(url, headers=headers)"
   ]
  },
  {
   "cell_type": "code",
   "execution_count": 11,
   "id": "a0540aad",
   "metadata": {},
   "outputs": [],
   "source": [
    "#Creating a beautiful soup object to contain the HTML information from the page:\n",
    "soup = BeautifulSoup(response.content, 'html.parser')"
   ]
  },
  {
   "cell_type": "code",
   "execution_count": 12,
   "id": "4e4630a6",
   "metadata": {},
   "outputs": [],
   "source": [
    "title = soup.find_all(itemprop=\"headline\")\n",
    "content  = soup.find_all(itemprop=\"articleBody\")"
   ]
  },
  {
   "cell_type": "code",
   "execution_count": 72,
   "id": "8fa6a521",
   "metadata": {},
   "outputs": [],
   "source": [
    "def get_shorts_articles(categories):\n",
    "    \n",
    "    #Creating an empty list to contain DataFrames of scraped data components:\n",
    "    inshorts_articles = []\n",
    "    #Establishing a for-loop to iterate through desired categories:\n",
    "    for category in categories:\n",
    "        #Creating an empty dataframe to store lists of article data components:\n",
    "        article_info = pd.DataFrame()\n",
    "        #Establishing baseline url and using format string to iterate through categories:\n",
    "        url = f'https://inshorts.com/en/read/{category}'\n",
    "        #Establishing header so it doesn't look like 'python-request':\n",
    "        headers = {'User-Agent': 'Codeup Data Science'}\n",
    "        #saving the response from the website:\n",
    "        response = get(url, headers=headers)\n",
    "        #Creating a beautiful soup object to contain the HTML information from the page:\n",
    "        soup = BeautifulSoup(response.content, 'html.parser')\n",
    "        # creating a list of all titles in the given category:\n",
    "        titles = soup.find_all(itemprop = 'headline')\n",
    "        #Creating a list of all article bodies in the given category\n",
    "        contents = soup.find_all(itemprop = 'articleBody')\n",
    "        #Adding 'title' column to DataFrame containing title text for each article:\n",
    "        article_info['title'] = [title.text for title in titles]\n",
    "        #Adding 'contents' column to DataFrame containing article body text for each article\n",
    "        article_info['contents'] = [content.text for content in contents]\n",
    "        #Adding 'category' column to list category for each article in the category:\n",
    "        article_info['category'] = category\n",
    "        #Appending DataFrame for each category to overall list of DataFrames:\n",
    "        inshorts_articles.append(article_info)\n",
    "    \n",
    "    #Concatenating all of the DataFrames in the list to create one large DataFrame:\n",
    "    inshorts_articles = pd.concat(inshorts_articles)\n",
    "    #Returning final DataFrame:\n",
    "    return inshorts_articles"
   ]
  },
  {
   "cell_type": "code",
   "execution_count": null,
   "id": "005930b5",
   "metadata": {},
   "outputs": [],
   "source": [
    "#Put after contents line if I want to use it:\n",
    "\n",
    " #for title, contents in zip(titles, contents):\n",
    "            #article_info = {\n",
    "                #'title': title,\n",
    "                #'content': content, \n",
    "                #'category': category\n",
    "            #}\n",
    "        #article_info['url'] = f'{url}'"
   ]
  },
  {
   "cell_type": "code",
   "execution_count": 73,
   "id": "2aac3c75",
   "metadata": {},
   "outputs": [],
   "source": [
    "categories = ['business', 'sports', 'technology', 'entertainment']\n",
    "\n",
    "inshorts_articles = get_shorts_articles(categories)"
   ]
  },
  {
   "cell_type": "code",
   "execution_count": 79,
   "id": "2cc91ab6",
   "metadata": {},
   "outputs": [
    {
     "data": {
      "text/html": [
       "<div>\n",
       "<style scoped>\n",
       "    .dataframe tbody tr th:only-of-type {\n",
       "        vertical-align: middle;\n",
       "    }\n",
       "\n",
       "    .dataframe tbody tr th {\n",
       "        vertical-align: top;\n",
       "    }\n",
       "\n",
       "    .dataframe thead th {\n",
       "        text-align: right;\n",
       "    }\n",
       "</style>\n",
       "<table border=\"1\" class=\"dataframe\">\n",
       "  <thead>\n",
       "    <tr style=\"text-align: right;\">\n",
       "      <th></th>\n",
       "      <th>title</th>\n",
       "      <th>contents</th>\n",
       "      <th>category</th>\n",
       "    </tr>\n",
       "  </thead>\n",
       "  <tbody>\n",
       "    <tr>\n",
       "      <th>0</th>\n",
       "      <td>Rupee edges closer to 80 per US dollar, opens ...</td>\n",
       "      <td>The rupee on Friday opened at a record low of ...</td>\n",
       "      <td>business</td>\n",
       "    </tr>\n",
       "    <tr>\n",
       "      <th>1</th>\n",
       "      <td>Rupee drops 9 paise to close at all-time low o...</td>\n",
       "      <td>The rupee declined by 9 paise to close at a ne...</td>\n",
       "      <td>business</td>\n",
       "    </tr>\n",
       "    <tr>\n",
       "      <th>2</th>\n",
       "      <td>Musk accused lawyers of causing trouble by see...</td>\n",
       "      <td>In its lawsuit against Tesla CEO Elon Musk, Tw...</td>\n",
       "      <td>business</td>\n",
       "    </tr>\n",
       "    <tr>\n",
       "      <th>3</th>\n",
       "      <td>Elon has a real record of success: LinkedIn Co...</td>\n",
       "      <td>LinkedIn's billionaire Co-founder Reid Hoffman...</td>\n",
       "      <td>business</td>\n",
       "    </tr>\n",
       "    <tr>\n",
       "      <th>4</th>\n",
       "      <td>Twitter uses Musk's old poop reaction to CEO's...</td>\n",
       "      <td>Twitter has used Tesla CEO Elon Musk's poop re...</td>\n",
       "      <td>business</td>\n",
       "    </tr>\n",
       "    <tr>\n",
       "      <th>...</th>\n",
       "      <td>...</td>\n",
       "      <td>...</td>\n",
       "      <td>...</td>\n",
       "    </tr>\n",
       "    <tr>\n",
       "      <th>20</th>\n",
       "      <td>Most of the current actors have forgotten what...</td>\n",
       "      <td>Actor Sanjay Dutt said most of the current act...</td>\n",
       "      <td>entertainment</td>\n",
       "    </tr>\n",
       "    <tr>\n",
       "      <th>21</th>\n",
       "      <td>KK's family calls his death 'worst pain', says...</td>\n",
       "      <td>Late singer KK's family has shared a note on h...</td>\n",
       "      <td>entertainment</td>\n",
       "    </tr>\n",
       "    <tr>\n",
       "      <th>22</th>\n",
       "      <td>I want to play negative characters like Thanos...</td>\n",
       "      <td>Actor Sanjay Dutt stated that he wants to play...</td>\n",
       "      <td>entertainment</td>\n",
       "    </tr>\n",
       "    <tr>\n",
       "      <th>23</th>\n",
       "      <td>I just wanted to act: Manish on being a succes...</td>\n",
       "      <td>Speaking about being successful after 20 years...</td>\n",
       "      <td>entertainment</td>\n",
       "    </tr>\n",
       "    <tr>\n",
       "      <th>24</th>\n",
       "      <td>My dad likes my films when I'm not remaking hi...</td>\n",
       "      <td>Actress Sara Ali Khan recently appeared on cel...</td>\n",
       "      <td>entertainment</td>\n",
       "    </tr>\n",
       "  </tbody>\n",
       "</table>\n",
       "<p>100 rows × 3 columns</p>\n",
       "</div>"
      ],
      "text/plain": [
       "                                                title  \\\n",
       "0   Rupee edges closer to 80 per US dollar, opens ...   \n",
       "1   Rupee drops 9 paise to close at all-time low o...   \n",
       "2   Musk accused lawyers of causing trouble by see...   \n",
       "3   Elon has a real record of success: LinkedIn Co...   \n",
       "4   Twitter uses Musk's old poop reaction to CEO's...   \n",
       "..                                                ...   \n",
       "20  Most of the current actors have forgotten what...   \n",
       "21  KK's family calls his death 'worst pain', says...   \n",
       "22  I want to play negative characters like Thanos...   \n",
       "23  I just wanted to act: Manish on being a succes...   \n",
       "24  My dad likes my films when I'm not remaking hi...   \n",
       "\n",
       "                                             contents       category  \n",
       "0   The rupee on Friday opened at a record low of ...       business  \n",
       "1   The rupee declined by 9 paise to close at a ne...       business  \n",
       "2   In its lawsuit against Tesla CEO Elon Musk, Tw...       business  \n",
       "3   LinkedIn's billionaire Co-founder Reid Hoffman...       business  \n",
       "4   Twitter has used Tesla CEO Elon Musk's poop re...       business  \n",
       "..                                                ...            ...  \n",
       "20  Actor Sanjay Dutt said most of the current act...  entertainment  \n",
       "21  Late singer KK's family has shared a note on h...  entertainment  \n",
       "22  Actor Sanjay Dutt stated that he wants to play...  entertainment  \n",
       "23  Speaking about being successful after 20 years...  entertainment  \n",
       "24  Actress Sara Ali Khan recently appeared on cel...  entertainment  \n",
       "\n",
       "[100 rows x 3 columns]"
      ]
     },
     "execution_count": 79,
     "metadata": {},
     "output_type": "execute_result"
    }
   ],
   "source": [
    "inshorts_articles"
   ]
  },
  {
   "cell_type": "code",
   "execution_count": 80,
   "id": "b41350e6",
   "metadata": {},
   "outputs": [
    {
     "data": {
      "text/html": [
       "<div>\n",
       "<style scoped>\n",
       "    .dataframe tbody tr th:only-of-type {\n",
       "        vertical-align: middle;\n",
       "    }\n",
       "\n",
       "    .dataframe tbody tr th {\n",
       "        vertical-align: top;\n",
       "    }\n",
       "\n",
       "    .dataframe thead th {\n",
       "        text-align: right;\n",
       "    }\n",
       "</style>\n",
       "<table border=\"1\" class=\"dataframe\">\n",
       "  <thead>\n",
       "    <tr style=\"text-align: right;\">\n",
       "      <th></th>\n",
       "      <th>title</th>\n",
       "      <th>contents</th>\n",
       "      <th>category</th>\n",
       "    </tr>\n",
       "  </thead>\n",
       "  <tbody>\n",
       "    <tr>\n",
       "      <th>0</th>\n",
       "      <td>Rupee edges closer to 80 per US dollar, opens ...</td>\n",
       "      <td>The rupee on Friday opened at a record low of ...</td>\n",
       "      <td>business</td>\n",
       "    </tr>\n",
       "    <tr>\n",
       "      <th>1</th>\n",
       "      <td>Rupee drops 9 paise to close at all-time low o...</td>\n",
       "      <td>The rupee declined by 9 paise to close at a ne...</td>\n",
       "      <td>business</td>\n",
       "    </tr>\n",
       "    <tr>\n",
       "      <th>2</th>\n",
       "      <td>Musk accused lawyers of causing trouble by see...</td>\n",
       "      <td>In its lawsuit against Tesla CEO Elon Musk, Tw...</td>\n",
       "      <td>business</td>\n",
       "    </tr>\n",
       "    <tr>\n",
       "      <th>3</th>\n",
       "      <td>Elon has a real record of success: LinkedIn Co...</td>\n",
       "      <td>LinkedIn's billionaire Co-founder Reid Hoffman...</td>\n",
       "      <td>business</td>\n",
       "    </tr>\n",
       "    <tr>\n",
       "      <th>4</th>\n",
       "      <td>Twitter uses Musk's old poop reaction to CEO's...</td>\n",
       "      <td>Twitter has used Tesla CEO Elon Musk's poop re...</td>\n",
       "      <td>business</td>\n",
       "    </tr>\n",
       "    <tr>\n",
       "      <th>...</th>\n",
       "      <td>...</td>\n",
       "      <td>...</td>\n",
       "      <td>...</td>\n",
       "    </tr>\n",
       "    <tr>\n",
       "      <th>20</th>\n",
       "      <td>Most of the current actors have forgotten what...</td>\n",
       "      <td>Actor Sanjay Dutt said most of the current act...</td>\n",
       "      <td>entertainment</td>\n",
       "    </tr>\n",
       "    <tr>\n",
       "      <th>21</th>\n",
       "      <td>KK's family calls his death 'worst pain', says...</td>\n",
       "      <td>Late singer KK's family has shared a note on h...</td>\n",
       "      <td>entertainment</td>\n",
       "    </tr>\n",
       "    <tr>\n",
       "      <th>22</th>\n",
       "      <td>I want to play negative characters like Thanos...</td>\n",
       "      <td>Actor Sanjay Dutt stated that he wants to play...</td>\n",
       "      <td>entertainment</td>\n",
       "    </tr>\n",
       "    <tr>\n",
       "      <th>23</th>\n",
       "      <td>I just wanted to act: Manish on being a succes...</td>\n",
       "      <td>Speaking about being successful after 20 years...</td>\n",
       "      <td>entertainment</td>\n",
       "    </tr>\n",
       "    <tr>\n",
       "      <th>24</th>\n",
       "      <td>My dad likes my films when I'm not remaking hi...</td>\n",
       "      <td>Actress Sara Ali Khan recently appeared on cel...</td>\n",
       "      <td>entertainment</td>\n",
       "    </tr>\n",
       "  </tbody>\n",
       "</table>\n",
       "<p>100 rows × 3 columns</p>\n",
       "</div>"
      ],
      "text/plain": [
       "                                                title  \\\n",
       "0   Rupee edges closer to 80 per US dollar, opens ...   \n",
       "1   Rupee drops 9 paise to close at all-time low o...   \n",
       "2   Musk accused lawyers of causing trouble by see...   \n",
       "3   Elon has a real record of success: LinkedIn Co...   \n",
       "4   Twitter uses Musk's old poop reaction to CEO's...   \n",
       "..                                                ...   \n",
       "20  Most of the current actors have forgotten what...   \n",
       "21  KK's family calls his death 'worst pain', says...   \n",
       "22  I want to play negative characters like Thanos...   \n",
       "23  I just wanted to act: Manish on being a succes...   \n",
       "24  My dad likes my films when I'm not remaking hi...   \n",
       "\n",
       "                                             contents       category  \n",
       "0   The rupee on Friday opened at a record low of ...       business  \n",
       "1   The rupee declined by 9 paise to close at a ne...       business  \n",
       "2   In its lawsuit against Tesla CEO Elon Musk, Tw...       business  \n",
       "3   LinkedIn's billionaire Co-founder Reid Hoffman...       business  \n",
       "4   Twitter has used Tesla CEO Elon Musk's poop re...       business  \n",
       "..                                                ...            ...  \n",
       "20  Actor Sanjay Dutt said most of the current act...  entertainment  \n",
       "21  Late singer KK's family has shared a note on h...  entertainment  \n",
       "22  Actor Sanjay Dutt stated that he wants to play...  entertainment  \n",
       "23  Speaking about being successful after 20 years...  entertainment  \n",
       "24  Actress Sara Ali Khan recently appeared on cel...  entertainment  \n",
       "\n",
       "[100 rows x 3 columns]"
      ]
     },
     "execution_count": 80,
     "metadata": {},
     "output_type": "execute_result"
    }
   ],
   "source": [
    "inshorts_articles"
   ]
  },
  {
   "cell_type": "markdown",
   "id": "de03680b",
   "metadata": {},
   "source": [
    "## 3. Bonus: cache the data\n",
    "\n",
    "Write your code such that the acquired data is saved locally in some form or fashion. Your functions that retrieve the data should prefer to read the local data instead of having to make all the requests everytime the function is called. Include a boolean flag in the functions to allow the data to be acquired \"fresh\" from the actual sources (re-writing your local cache)."
   ]
  },
  {
   "cell_type": "code",
   "execution_count": null,
   "id": "0c20b7b8",
   "metadata": {},
   "outputs": [],
   "source": []
  }
 ],
 "metadata": {
  "kernelspec": {
   "display_name": "Python 3 (ipykernel)",
   "language": "python",
   "name": "python3"
  },
  "language_info": {
   "codemirror_mode": {
    "name": "ipython",
    "version": 3
   },
   "file_extension": ".py",
   "mimetype": "text/x-python",
   "name": "python",
   "nbconvert_exporter": "python",
   "pygments_lexer": "ipython3",
   "version": "3.9.7"
  }
 },
 "nbformat": 4,
 "nbformat_minor": 5
}
